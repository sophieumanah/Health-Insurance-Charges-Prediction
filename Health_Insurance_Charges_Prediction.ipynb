{
 "cells": [
  {
   "cell_type": "markdown",
   "id": "bcd32970-8e24-4b89-969f-2f43e8176926",
   "metadata": {},
   "source": [
    "### Objective:\n",
    "To develop a predictive regression model that accurately estimates health insurance charges for individuals based on their demographic and health-related attributes.\n",
    "\n",
    "\n",
    "### Data Dictionary:\n",
    "\n",
    "**Age**: Age of the individual (in years).\n",
    "\n",
    "**Sex**: Gender of the individual (Male/Female).\n",
    " \n",
    "**BMI**: Body Mass Index (weight in kg/height in m²).\n",
    " \n",
    "**Number of Children**: Number of dependents covered by insurance.\n",
    " \n",
    "**Smoker**: Smoking status (Yes/No).\n",
    " \n",
    "**Region**: Geographic region (Northeast, Northwest, Southeast, Southwest).\n",
    " \n",
    "**Charges**: Medical insurance costs (e.g., USD).\n",
    "\n",
    "\n",
    "### Problem Type:\n",
    "Regression (predicting continuous insurance charges).\n",
    "\n",
    "\n",
    "\n",
    "#### Algorithms to Consider:\n",
    "\n",
    "* Linear Regression\n",
    "\n",
    "* Decision Tree Regressor\n",
    "\n",
    "* Random Forest Regressor\n",
    "\n",
    "* Polynomial Regression\n",
    "\n",
    "\n",
    "### Approach:\n",
    "##### Data Loading & Initial Checks\n",
    "* Load the dataset and inspect its structure (using head, info, and describe).\n",
    "\n",
    "* Check for missing values and handle them (imputation or removal).\n",
    "\n",
    "* Detect and manage outliers (if any).\n",
    "\n",
    "##### Exploratory Data Analysis (EDA)\n",
    "* Analyze distributions of numerical (Age, BMI, Charges) and categorical (Sex, Smoker, Region) features.\n",
    "\n",
    "##### Data Preprocessing\n",
    "* Encode Categorical Variables using the Label Encoder\n",
    "\n",
    "##### Library Used\n",
    "* Pandas\n",
    "* Numpy\n",
    "* Matplotlib\n",
    "* Seaborn\n",
    "* Scikit-Learn\n",
    "\n",
    "##### Feature Scaling:\n",
    "* Standardize/Normalize numerical features (Age, BMI, Number of Children) if needed.\n",
    "* Train-Test Split:\n",
    "* Divide data into training (70-80%) and testing (20-30%) sets.\n",
    "\n",
    "##### Model Training\n",
    "1. Train multiple regression models (Linear Regression, Random Forest, etc.).\n",
    "2. Evaluate models using:\n",
    "   - R² Score (primary metric)\n",
    "   - Mean Absolute Error (MAE)\n",
    "   - Mean Squared Error (MSE)\n",
    "   - Root Mean Squared Error (RMSE)\n",
    "\n",
    "##### Model Evaluation & Selection\n",
    "* Compare model performance on the test set.\n",
    "* Select the best-performing model based on evaluation metrics.\n",
    "* Check the model accuracy by comparing the train data with the test data\n"
   ]
  },
  {
   "cell_type": "code",
   "execution_count": null,
   "id": "c93ba0d8-2df4-4213-bf94-3ff78ebb780a",
   "metadata": {},
   "outputs": [],
   "source": []
  },
  {
   "cell_type": "code",
   "execution_count": 1,
   "id": "6eafad56-8587-4d58-92b0-109ec67ec3de",
   "metadata": {},
   "outputs": [],
   "source": [
    "# Importing the necessary Python libraries for data analysis and visualization\n",
    "\n",
    "import pandas as pd\n",
    "import numpy as np\n",
    "import matplotlib.pyplot as plt\n",
    "import seaborn as sns"
   ]
  },
  {
   "cell_type": "code",
   "execution_count": 2,
   "id": "65046335-1a5f-47d1-8769-885617ee3c93",
   "metadata": {},
   "outputs": [],
   "source": [
    "# Importing the warnings library to manage warning messages\n",
    "\n",
    "import warnings\n",
    "warnings.filterwarnings(\"ignore\")"
   ]
  },
  {
   "cell_type": "code",
   "execution_count": 3,
   "id": "1f451430-920d-446c-bba6-e8711f8a2d60",
   "metadata": {},
   "outputs": [],
   "source": [
    "# Reading the insurance dataset from a CSV file into a pandas DataFrame\n",
    "Insurance_dataset = pd.read_csv('insurance.csv')"
   ]
  },
  {
   "cell_type": "code",
   "execution_count": 4,
   "id": "2c751fe9-742d-4e9d-a0e5-97ae2fcaceb6",
   "metadata": {
    "scrolled": true
   },
   "outputs": [
    {
     "data": {
      "text/html": [
       "<div>\n",
       "<style scoped>\n",
       "    .dataframe tbody tr th:only-of-type {\n",
       "        vertical-align: middle;\n",
       "    }\n",
       "\n",
       "    .dataframe tbody tr th {\n",
       "        vertical-align: top;\n",
       "    }\n",
       "\n",
       "    .dataframe thead th {\n",
       "        text-align: right;\n",
       "    }\n",
       "</style>\n",
       "<table border=\"1\" class=\"dataframe\">\n",
       "  <thead>\n",
       "    <tr style=\"text-align: right;\">\n",
       "      <th></th>\n",
       "      <th>age</th>\n",
       "      <th>sex</th>\n",
       "      <th>bmi</th>\n",
       "      <th>children</th>\n",
       "      <th>smoker</th>\n",
       "      <th>region</th>\n",
       "      <th>charges</th>\n",
       "    </tr>\n",
       "  </thead>\n",
       "  <tbody>\n",
       "    <tr>\n",
       "      <th>0</th>\n",
       "      <td>19</td>\n",
       "      <td>female</td>\n",
       "      <td>27.900</td>\n",
       "      <td>0</td>\n",
       "      <td>yes</td>\n",
       "      <td>southwest</td>\n",
       "      <td>16884.92400</td>\n",
       "    </tr>\n",
       "    <tr>\n",
       "      <th>1</th>\n",
       "      <td>18</td>\n",
       "      <td>male</td>\n",
       "      <td>33.770</td>\n",
       "      <td>1</td>\n",
       "      <td>no</td>\n",
       "      <td>southeast</td>\n",
       "      <td>1725.55230</td>\n",
       "    </tr>\n",
       "    <tr>\n",
       "      <th>2</th>\n",
       "      <td>28</td>\n",
       "      <td>male</td>\n",
       "      <td>33.000</td>\n",
       "      <td>3</td>\n",
       "      <td>no</td>\n",
       "      <td>southeast</td>\n",
       "      <td>4449.46200</td>\n",
       "    </tr>\n",
       "    <tr>\n",
       "      <th>3</th>\n",
       "      <td>33</td>\n",
       "      <td>male</td>\n",
       "      <td>22.705</td>\n",
       "      <td>0</td>\n",
       "      <td>no</td>\n",
       "      <td>northwest</td>\n",
       "      <td>21984.47061</td>\n",
       "    </tr>\n",
       "    <tr>\n",
       "      <th>4</th>\n",
       "      <td>32</td>\n",
       "      <td>male</td>\n",
       "      <td>28.880</td>\n",
       "      <td>0</td>\n",
       "      <td>no</td>\n",
       "      <td>northwest</td>\n",
       "      <td>3866.85520</td>\n",
       "    </tr>\n",
       "    <tr>\n",
       "      <th>...</th>\n",
       "      <td>...</td>\n",
       "      <td>...</td>\n",
       "      <td>...</td>\n",
       "      <td>...</td>\n",
       "      <td>...</td>\n",
       "      <td>...</td>\n",
       "      <td>...</td>\n",
       "    </tr>\n",
       "    <tr>\n",
       "      <th>1333</th>\n",
       "      <td>50</td>\n",
       "      <td>male</td>\n",
       "      <td>30.970</td>\n",
       "      <td>3</td>\n",
       "      <td>no</td>\n",
       "      <td>northwest</td>\n",
       "      <td>10600.54830</td>\n",
       "    </tr>\n",
       "    <tr>\n",
       "      <th>1334</th>\n",
       "      <td>18</td>\n",
       "      <td>female</td>\n",
       "      <td>31.920</td>\n",
       "      <td>0</td>\n",
       "      <td>no</td>\n",
       "      <td>northeast</td>\n",
       "      <td>2205.98080</td>\n",
       "    </tr>\n",
       "    <tr>\n",
       "      <th>1335</th>\n",
       "      <td>18</td>\n",
       "      <td>female</td>\n",
       "      <td>36.850</td>\n",
       "      <td>0</td>\n",
       "      <td>no</td>\n",
       "      <td>southeast</td>\n",
       "      <td>1629.83350</td>\n",
       "    </tr>\n",
       "    <tr>\n",
       "      <th>1336</th>\n",
       "      <td>21</td>\n",
       "      <td>female</td>\n",
       "      <td>25.800</td>\n",
       "      <td>0</td>\n",
       "      <td>no</td>\n",
       "      <td>southwest</td>\n",
       "      <td>2007.94500</td>\n",
       "    </tr>\n",
       "    <tr>\n",
       "      <th>1337</th>\n",
       "      <td>61</td>\n",
       "      <td>female</td>\n",
       "      <td>29.070</td>\n",
       "      <td>0</td>\n",
       "      <td>yes</td>\n",
       "      <td>northwest</td>\n",
       "      <td>29141.36030</td>\n",
       "    </tr>\n",
       "  </tbody>\n",
       "</table>\n",
       "<p>1338 rows × 7 columns</p>\n",
       "</div>"
      ],
      "text/plain": [
       "      age     sex     bmi  children smoker     region      charges\n",
       "0      19  female  27.900         0    yes  southwest  16884.92400\n",
       "1      18    male  33.770         1     no  southeast   1725.55230\n",
       "2      28    male  33.000         3     no  southeast   4449.46200\n",
       "3      33    male  22.705         0     no  northwest  21984.47061\n",
       "4      32    male  28.880         0     no  northwest   3866.85520\n",
       "...   ...     ...     ...       ...    ...        ...          ...\n",
       "1333   50    male  30.970         3     no  northwest  10600.54830\n",
       "1334   18  female  31.920         0     no  northeast   2205.98080\n",
       "1335   18  female  36.850         0     no  southeast   1629.83350\n",
       "1336   21  female  25.800         0     no  southwest   2007.94500\n",
       "1337   61  female  29.070         0    yes  northwest  29141.36030\n",
       "\n",
       "[1338 rows x 7 columns]"
      ]
     },
     "execution_count": 4,
     "metadata": {},
     "output_type": "execute_result"
    }
   ],
   "source": [
    "# Displaying the contents of the Insurance_dataset DataFrame\n",
    "Insurance_dataset"
   ]
  },
  {
   "cell_type": "markdown",
   "id": "5d03c651-d6d1-4e5a-b11f-cbbbb7228a6e",
   "metadata": {},
   "source": [
    "##### From the information above, we can see that the dataset consists of\n",
    "- 7 columns\n",
    "- 1338 rows\n",
    "- 3 different datatypes (integers, floats and strings)\n"
   ]
  },
  {
   "cell_type": "markdown",
   "id": "ed71d54c-9810-4f32-b0fb-932899755ce0",
   "metadata": {},
   "source": [
    "### Exploratory Data Analysis"
   ]
  },
  {
   "cell_type": "code",
   "execution_count": 5,
   "id": "37e17f93-d493-4977-9b50-5dd0ad0b85a7",
   "metadata": {},
   "outputs": [
    {
     "name": "stdout",
     "output_type": "stream",
     "text": [
      "<class 'pandas.core.frame.DataFrame'>\n",
      "RangeIndex: 1338 entries, 0 to 1337\n",
      "Data columns (total 7 columns):\n",
      " #   Column    Non-Null Count  Dtype  \n",
      "---  ------    --------------  -----  \n",
      " 0   age       1338 non-null   int64  \n",
      " 1   sex       1338 non-null   object \n",
      " 2   bmi       1338 non-null   float64\n",
      " 3   children  1338 non-null   int64  \n",
      " 4   smoker    1338 non-null   object \n",
      " 5   region    1338 non-null   object \n",
      " 6   charges   1338 non-null   float64\n",
      "dtypes: float64(2), int64(2), object(3)\n",
      "memory usage: 73.3+ KB\n"
     ]
    }
   ],
   "source": [
    "# Displaying a summary of the dataset\n",
    "Insurance_dataset.info()"
   ]
  },
  {
   "cell_type": "code",
   "execution_count": 6,
   "id": "6484ed65-0036-4741-80b8-e3b6b66e9e75",
   "metadata": {},
   "outputs": [
    {
     "data": {
      "text/plain": [
       "age         0\n",
       "sex         0\n",
       "bmi         0\n",
       "children    0\n",
       "smoker      0\n",
       "region      0\n",
       "charges     0\n",
       "dtype: int64"
      ]
     },
     "execution_count": 6,
     "metadata": {},
     "output_type": "execute_result"
    }
   ],
   "source": [
    "# Checking for missing (null) values in each column of the dataset\n",
    "Insurance_dataset.isnull().sum()"
   ]
  },
  {
   "cell_type": "markdown",
   "id": "a9a0b3e3-c180-49fe-ab7d-d1d27d6be769",
   "metadata": {},
   "source": [
    "###### There are no null value in the dataset."
   ]
  },
  {
   "cell_type": "code",
   "execution_count": 7,
   "id": "40d3b4c0-4db1-4994-be6a-52c8f1c920fa",
   "metadata": {},
   "outputs": [
    {
     "name": "stdout",
     "output_type": "stream",
     "text": [
      "Unique region in this dataset are:\n",
      "southwest\n",
      "southeast\n",
      "northwest\n",
      "northeast\n"
     ]
    }
   ],
   "source": [
    "# Extracting all unique values from the 'region' column of the dataset\n",
    "Region_List = Insurance_dataset['region'].unique()\n",
    "\n",
    "# Printing a message to indicate the start of the region list\n",
    "print(\"Unique region in this dataset are:\")\n",
    "\n",
    "# Looping through the list of unique regions and printing each one\n",
    "for Region in Region_List:\n",
    "    print(Region)"
   ]
  },
  {
   "cell_type": "code",
   "execution_count": 8,
   "id": "9a086185-7ab7-44a3-b613-7887116f62f5",
   "metadata": {},
   "outputs": [],
   "source": [
    "# Creating an empty list to store age group labels\n",
    "age_group = []\n",
    "\n",
    "# Looping through each age value in the 'age' column\n",
    "for age in Insurance_dataset['age']:\n",
    "    if age < 25:\n",
    "        age_group.append('18-25')\n",
    "    elif age < 35:\n",
    "        age_group.append('26-35')\n",
    "    elif age < 30:\n",
    "        age_group,append('36-50')\n",
    "    else:\n",
    "        age_group.append('51-64')\n",
    "\n",
    "# Assigning the final list of age groups as a new column in the DataFrame\n",
    "Insurance_dataset['age_group'] = age_group"
   ]
  },
  {
   "cell_type": "code",
   "execution_count": 9,
   "id": "6351dd60-3dd9-4323-80ad-b1a16c764727",
   "metadata": {},
   "outputs": [
    {
     "data": {
      "text/html": [
       "<div>\n",
       "<style scoped>\n",
       "    .dataframe tbody tr th:only-of-type {\n",
       "        vertical-align: middle;\n",
       "    }\n",
       "\n",
       "    .dataframe tbody tr th {\n",
       "        vertical-align: top;\n",
       "    }\n",
       "\n",
       "    .dataframe thead th {\n",
       "        text-align: right;\n",
       "    }\n",
       "</style>\n",
       "<table border=\"1\" class=\"dataframe\">\n",
       "  <thead>\n",
       "    <tr style=\"text-align: right;\">\n",
       "      <th></th>\n",
       "      <th>age</th>\n",
       "      <th>sex</th>\n",
       "      <th>bmi</th>\n",
       "      <th>children</th>\n",
       "      <th>smoker</th>\n",
       "      <th>region</th>\n",
       "      <th>charges</th>\n",
       "      <th>age_group</th>\n",
       "    </tr>\n",
       "  </thead>\n",
       "  <tbody>\n",
       "    <tr>\n",
       "      <th>0</th>\n",
       "      <td>19</td>\n",
       "      <td>female</td>\n",
       "      <td>27.900</td>\n",
       "      <td>0</td>\n",
       "      <td>yes</td>\n",
       "      <td>southwest</td>\n",
       "      <td>16884.92400</td>\n",
       "      <td>18-25</td>\n",
       "    </tr>\n",
       "    <tr>\n",
       "      <th>1</th>\n",
       "      <td>18</td>\n",
       "      <td>male</td>\n",
       "      <td>33.770</td>\n",
       "      <td>1</td>\n",
       "      <td>no</td>\n",
       "      <td>southeast</td>\n",
       "      <td>1725.55230</td>\n",
       "      <td>18-25</td>\n",
       "    </tr>\n",
       "    <tr>\n",
       "      <th>2</th>\n",
       "      <td>28</td>\n",
       "      <td>male</td>\n",
       "      <td>33.000</td>\n",
       "      <td>3</td>\n",
       "      <td>no</td>\n",
       "      <td>southeast</td>\n",
       "      <td>4449.46200</td>\n",
       "      <td>26-35</td>\n",
       "    </tr>\n",
       "    <tr>\n",
       "      <th>3</th>\n",
       "      <td>33</td>\n",
       "      <td>male</td>\n",
       "      <td>22.705</td>\n",
       "      <td>0</td>\n",
       "      <td>no</td>\n",
       "      <td>northwest</td>\n",
       "      <td>21984.47061</td>\n",
       "      <td>26-35</td>\n",
       "    </tr>\n",
       "    <tr>\n",
       "      <th>4</th>\n",
       "      <td>32</td>\n",
       "      <td>male</td>\n",
       "      <td>28.880</td>\n",
       "      <td>0</td>\n",
       "      <td>no</td>\n",
       "      <td>northwest</td>\n",
       "      <td>3866.85520</td>\n",
       "      <td>26-35</td>\n",
       "    </tr>\n",
       "    <tr>\n",
       "      <th>...</th>\n",
       "      <td>...</td>\n",
       "      <td>...</td>\n",
       "      <td>...</td>\n",
       "      <td>...</td>\n",
       "      <td>...</td>\n",
       "      <td>...</td>\n",
       "      <td>...</td>\n",
       "      <td>...</td>\n",
       "    </tr>\n",
       "    <tr>\n",
       "      <th>1333</th>\n",
       "      <td>50</td>\n",
       "      <td>male</td>\n",
       "      <td>30.970</td>\n",
       "      <td>3</td>\n",
       "      <td>no</td>\n",
       "      <td>northwest</td>\n",
       "      <td>10600.54830</td>\n",
       "      <td>51-64</td>\n",
       "    </tr>\n",
       "    <tr>\n",
       "      <th>1334</th>\n",
       "      <td>18</td>\n",
       "      <td>female</td>\n",
       "      <td>31.920</td>\n",
       "      <td>0</td>\n",
       "      <td>no</td>\n",
       "      <td>northeast</td>\n",
       "      <td>2205.98080</td>\n",
       "      <td>18-25</td>\n",
       "    </tr>\n",
       "    <tr>\n",
       "      <th>1335</th>\n",
       "      <td>18</td>\n",
       "      <td>female</td>\n",
       "      <td>36.850</td>\n",
       "      <td>0</td>\n",
       "      <td>no</td>\n",
       "      <td>southeast</td>\n",
       "      <td>1629.83350</td>\n",
       "      <td>18-25</td>\n",
       "    </tr>\n",
       "    <tr>\n",
       "      <th>1336</th>\n",
       "      <td>21</td>\n",
       "      <td>female</td>\n",
       "      <td>25.800</td>\n",
       "      <td>0</td>\n",
       "      <td>no</td>\n",
       "      <td>southwest</td>\n",
       "      <td>2007.94500</td>\n",
       "      <td>18-25</td>\n",
       "    </tr>\n",
       "    <tr>\n",
       "      <th>1337</th>\n",
       "      <td>61</td>\n",
       "      <td>female</td>\n",
       "      <td>29.070</td>\n",
       "      <td>0</td>\n",
       "      <td>yes</td>\n",
       "      <td>northwest</td>\n",
       "      <td>29141.36030</td>\n",
       "      <td>51-64</td>\n",
       "    </tr>\n",
       "  </tbody>\n",
       "</table>\n",
       "<p>1338 rows × 8 columns</p>\n",
       "</div>"
      ],
      "text/plain": [
       "      age     sex     bmi  children smoker     region      charges age_group\n",
       "0      19  female  27.900         0    yes  southwest  16884.92400     18-25\n",
       "1      18    male  33.770         1     no  southeast   1725.55230     18-25\n",
       "2      28    male  33.000         3     no  southeast   4449.46200     26-35\n",
       "3      33    male  22.705         0     no  northwest  21984.47061     26-35\n",
       "4      32    male  28.880         0     no  northwest   3866.85520     26-35\n",
       "...   ...     ...     ...       ...    ...        ...          ...       ...\n",
       "1333   50    male  30.970         3     no  northwest  10600.54830     51-64\n",
       "1334   18  female  31.920         0     no  northeast   2205.98080     18-25\n",
       "1335   18  female  36.850         0     no  southeast   1629.83350     18-25\n",
       "1336   21  female  25.800         0     no  southwest   2007.94500     18-25\n",
       "1337   61  female  29.070         0    yes  northwest  29141.36030     51-64\n",
       "\n",
       "[1338 rows x 8 columns]"
      ]
     },
     "execution_count": 9,
     "metadata": {},
     "output_type": "execute_result"
    }
   ],
   "source": [
    "# Checking to see if the change was successful\n",
    "Insurance_dataset"
   ]
  },
  {
   "cell_type": "code",
   "execution_count": 10,
   "id": "c901dea2-5f85-420c-99de-ba4d1e1b1d69",
   "metadata": {},
   "outputs": [
    {
     "data": {
      "text/html": [
       "<div>\n",
       "<style scoped>\n",
       "    .dataframe tbody tr th:only-of-type {\n",
       "        vertical-align: middle;\n",
       "    }\n",
       "\n",
       "    .dataframe tbody tr th {\n",
       "        vertical-align: top;\n",
       "    }\n",
       "\n",
       "    .dataframe thead th {\n",
       "        text-align: right;\n",
       "    }\n",
       "</style>\n",
       "<table border=\"1\" class=\"dataframe\">\n",
       "  <thead>\n",
       "    <tr style=\"text-align: right;\">\n",
       "      <th></th>\n",
       "      <th>age</th>\n",
       "      <th>bmi</th>\n",
       "      <th>children</th>\n",
       "      <th>charges</th>\n",
       "    </tr>\n",
       "  </thead>\n",
       "  <tbody>\n",
       "    <tr>\n",
       "      <th>count</th>\n",
       "      <td>1338.000000</td>\n",
       "      <td>1338.000000</td>\n",
       "      <td>1338.000000</td>\n",
       "      <td>1338.000000</td>\n",
       "    </tr>\n",
       "    <tr>\n",
       "      <th>mean</th>\n",
       "      <td>39.207025</td>\n",
       "      <td>30.663397</td>\n",
       "      <td>1.094918</td>\n",
       "      <td>13270.422265</td>\n",
       "    </tr>\n",
       "    <tr>\n",
       "      <th>std</th>\n",
       "      <td>14.049960</td>\n",
       "      <td>6.098187</td>\n",
       "      <td>1.205493</td>\n",
       "      <td>12110.011237</td>\n",
       "    </tr>\n",
       "    <tr>\n",
       "      <th>min</th>\n",
       "      <td>18.000000</td>\n",
       "      <td>15.960000</td>\n",
       "      <td>0.000000</td>\n",
       "      <td>1121.873900</td>\n",
       "    </tr>\n",
       "    <tr>\n",
       "      <th>25%</th>\n",
       "      <td>27.000000</td>\n",
       "      <td>26.296250</td>\n",
       "      <td>0.000000</td>\n",
       "      <td>4740.287150</td>\n",
       "    </tr>\n",
       "    <tr>\n",
       "      <th>50%</th>\n",
       "      <td>39.000000</td>\n",
       "      <td>30.400000</td>\n",
       "      <td>1.000000</td>\n",
       "      <td>9382.033000</td>\n",
       "    </tr>\n",
       "    <tr>\n",
       "      <th>75%</th>\n",
       "      <td>51.000000</td>\n",
       "      <td>34.693750</td>\n",
       "      <td>2.000000</td>\n",
       "      <td>16639.912515</td>\n",
       "    </tr>\n",
       "    <tr>\n",
       "      <th>max</th>\n",
       "      <td>64.000000</td>\n",
       "      <td>53.130000</td>\n",
       "      <td>5.000000</td>\n",
       "      <td>63770.428010</td>\n",
       "    </tr>\n",
       "  </tbody>\n",
       "</table>\n",
       "</div>"
      ],
      "text/plain": [
       "               age          bmi     children       charges\n",
       "count  1338.000000  1338.000000  1338.000000   1338.000000\n",
       "mean     39.207025    30.663397     1.094918  13270.422265\n",
       "std      14.049960     6.098187     1.205493  12110.011237\n",
       "min      18.000000    15.960000     0.000000   1121.873900\n",
       "25%      27.000000    26.296250     0.000000   4740.287150\n",
       "50%      39.000000    30.400000     1.000000   9382.033000\n",
       "75%      51.000000    34.693750     2.000000  16639.912515\n",
       "max      64.000000    53.130000     5.000000  63770.428010"
      ]
     },
     "execution_count": 10,
     "metadata": {},
     "output_type": "execute_result"
    }
   ],
   "source": [
    "# Generating descriptive statistics for the numerical columns in the dataset\n",
    "Insurance_dataset.describe()"
   ]
  },
  {
   "cell_type": "markdown",
   "id": "9f26c885-df7a-4a31-b447-e32ab2d47e5e",
   "metadata": {},
   "source": [
    "### Data Visualization"
   ]
  },
  {
   "cell_type": "code",
   "execution_count": 11,
   "id": "232a5626-3f80-4950-b038-703f86983340",
   "metadata": {},
   "outputs": [
    {
     "data": {
      "image/png": "[encoded data removed]",
      "text/plain": [
       "<Figure size 640x480 with 1 Axes>"
      ]
     },
     "metadata": {},
     "output_type": "display_data"
    }
   ],
   "source": [
    "# Creating a boxplot to visualize the distribution of insurance charges\n",
    "sns.boxplot(Insurance_dataset['charges'])\n",
    "plt.title('Boxplot of Charges')\n",
    "plt.show()"
   ]
  },
  {
   "cell_type": "code",
   "execution_count": 12,
   "id": "a038f797-2b7c-42a1-b2f9-b77af5a41d3f",
   "metadata": {},
   "outputs": [
    {
     "data": {
      "text/plain": [
       "Text(0.5, 1.0, 'Boxplot of Age')"
      ]
     },
     "execution_count": 12,
     "metadata": {},
     "output_type": "execute_result"
    },
    {
     "data": {
      "image/png": "[encoded data removed]",
      "text/plain": [
       "<Figure size 640x480 with 1 Axes>"
      ]
     },
     "metadata": {},
     "output_type": "display_data"
    }
   ],
   "source": [
    "# Creating a boxplot to visualize the distribution of the 'age' variable in the dataset\n",
    "sns.boxplot(Insurance_dataset['age'])\n",
    "plt.title('Boxplot of Age')\n"
   ]
  },
  {
   "cell_type": "code",
   "execution_count": 13,
   "id": "61a61151-9cf9-4ba0-af6c-7c11bba58a0d",
   "metadata": {},
   "outputs": [
    {
     "data": {
      "image/png": "[encoded data removed]",
      "text/plain": [
       "<Figure size 1000x600 with 1 Axes>"
      ]
     },
     "metadata": {},
     "output_type": "display_data"
    },
    {
     "data": {
      "image/png": "[encoded data removed]",
      "text/plain": [
       "<Figure size 1000x600 with 1 Axes>"
      ]
     },
     "metadata": {},
     "output_type": "display_data"
    },
    {
     "data": {
      "image/png": "[encoded data removed]",
      "text/plain": [
       "<Figure size 1000x600 with 1 Axes>"
      ]
     },
     "metadata": {},
     "output_type": "display_data"
    }
   ],
   "source": [
    "# Defining a list of numerical features we want to visualize\n",
    "num_features = ['age', 'bmi', 'children']\n",
    "\n",
    "# Looping through each numerical feature in the list and a creating a histogram for each of them\n",
    "for feature in num_features:\n",
    "    plt.figure(figsize =(10,6))\n",
    "    Insurance_dataset[feature].hist(bins=20)\n",
    "    plt.title(f'Distribution of {feature}')\n",
    "    plt.xlabel(feature)     \n",
    "    plt.ylabel('Frequency') \n",
    "    plt.show()"
   ]
  },
  {
   "cell_type": "code",
   "execution_count": 14,
   "id": "b2070f7a-aa48-4ccd-a078-b57370ed1e06",
   "metadata": {},
   "outputs": [
    {
     "data": {
      "image/png": "[encoded data removed]",
      "text/plain": [
       "<Figure size 640x480 with 1 Axes>"
      ]
     },
     "metadata": {},
     "output_type": "display_data"
    },
    {
     "data": {
      "image/png": "[encoded data removed]",
      "text/plain": [
       "<Figure size 640x480 with 1 Axes>"
      ]
     },
     "metadata": {},
     "output_type": "display_data"
    },
    {
     "data": {
      "image/png": "[encoded data removed]",
      "text/plain": [
       "<Figure size 640x480 with 1 Axes>"
      ]
     },
     "metadata": {},
     "output_type": "display_data"
    },
    {
     "data": {
      "image/png": "[encoded data removed]",
      "text/plain": [
       "<Figure size 640x480 with 1 Axes>"
      ]
     },
     "metadata": {},
     "output_type": "display_data"
    }
   ],
   "source": [
    "# Creating a list of categorical features in the dataset\n",
    "categorical_features = ['region', 'sex', 'smoker', 'age_group']\n",
    "\n",
    "# Looping through each categorical feature to visualize their distribution\n",
    "for features in categorical_features:\n",
    "    sns.countplot(Insurance_dataset[features])\n",
    "    plt.title(f'Distribution of {features}')\n",
    "    plt.xlabel('Frequency')                      \n",
    "    plt.ylabel(features) \n",
    "    plt.show()"
   ]
  },
  {
   "cell_type": "markdown",
   "id": "8e62ff71-ddae-4073-8bd1-142ebce30bc9",
   "metadata": {},
   "source": [
    "### Encoding Categorical Variables "
   ]
  },
  {
   "cell_type": "code",
   "execution_count": 15,
   "id": "9aea528c-41fb-4ed9-b566-2a3adad222b8",
   "metadata": {},
   "outputs": [],
   "source": [
    "# Importing the LabelEncoder from scikit-learn to convert categorical values into numerical values.\n",
    "from sklearn.preprocessing import LabelEncoder"
   ]
  },
  {
   "cell_type": "code",
   "execution_count": 16,
   "id": "5f423b21-c569-4db1-8186-066fe302c3aa",
   "metadata": {},
   "outputs": [],
   "source": [
    "# Creating an instance of the LabelEncoder class\n",
    "LabelEncoder = LabelEncoder()"
   ]
  },
  {
   "cell_type": "code",
   "execution_count": 17,
   "id": "ebfcbce1-9d15-4880-aba2-e930bbdb55e4",
   "metadata": {},
   "outputs": [],
   "source": [
    "# Selecting all categorical features (columns with data type 'object') from the dataset\n",
    "categorical_features = Insurance_dataset.select_dtypes(include = 'object')"
   ]
  },
  {
   "cell_type": "code",
   "execution_count": 18,
   "id": "42dfa1b8-48a6-42a9-99fa-74467d2dda37",
   "metadata": {},
   "outputs": [],
   "source": [
    "# Looping through each categorical column in the dataset and applying Label Encoding to convert text categories into numeric labels\n",
    "for feature in categorical_features.columns:\n",
    "    Insurance_dataset[feature] = LabelEncoder.fit_transform(Insurance_dataset[feature])"
   ]
  },
  {
   "cell_type": "code",
   "execution_count": 19,
   "id": "4d355991-e3fe-4a84-8123-d33b3cc7c768",
   "metadata": {},
   "outputs": [
    {
     "data": {
      "text/html": [
       "<div>\n",
       "<style scoped>\n",
       "    .dataframe tbody tr th:only-of-type {\n",
       "        vertical-align: middle;\n",
       "    }\n",
       "\n",
       "    .dataframe tbody tr th {\n",
       "        vertical-align: top;\n",
       "    }\n",
       "\n",
       "    .dataframe thead th {\n",
       "        text-align: right;\n",
       "    }\n",
       "</style>\n",
       "<table border=\"1\" class=\"dataframe\">\n",
       "  <thead>\n",
       "    <tr style=\"text-align: right;\">\n",
       "      <th></th>\n",
       "      <th>age</th>\n",
       "      <th>sex</th>\n",
       "      <th>bmi</th>\n",
       "      <th>children</th>\n",
       "      <th>smoker</th>\n",
       "      <th>region</th>\n",
       "      <th>charges</th>\n",
       "      <th>age_group</th>\n",
       "    </tr>\n",
       "  </thead>\n",
       "  <tbody>\n",
       "    <tr>\n",
       "      <th>0</th>\n",
       "      <td>19</td>\n",
       "      <td>0</td>\n",
       "      <td>27.900</td>\n",
       "      <td>0</td>\n",
       "      <td>1</td>\n",
       "      <td>3</td>\n",
       "      <td>16884.92400</td>\n",
       "      <td>0</td>\n",
       "    </tr>\n",
       "    <tr>\n",
       "      <th>1</th>\n",
       "      <td>18</td>\n",
       "      <td>1</td>\n",
       "      <td>33.770</td>\n",
       "      <td>1</td>\n",
       "      <td>0</td>\n",
       "      <td>2</td>\n",
       "      <td>1725.55230</td>\n",
       "      <td>0</td>\n",
       "    </tr>\n",
       "    <tr>\n",
       "      <th>2</th>\n",
       "      <td>28</td>\n",
       "      <td>1</td>\n",
       "      <td>33.000</td>\n",
       "      <td>3</td>\n",
       "      <td>0</td>\n",
       "      <td>2</td>\n",
       "      <td>4449.46200</td>\n",
       "      <td>1</td>\n",
       "    </tr>\n",
       "    <tr>\n",
       "      <th>3</th>\n",
       "      <td>33</td>\n",
       "      <td>1</td>\n",
       "      <td>22.705</td>\n",
       "      <td>0</td>\n",
       "      <td>0</td>\n",
       "      <td>1</td>\n",
       "      <td>21984.47061</td>\n",
       "      <td>1</td>\n",
       "    </tr>\n",
       "    <tr>\n",
       "      <th>4</th>\n",
       "      <td>32</td>\n",
       "      <td>1</td>\n",
       "      <td>28.880</td>\n",
       "      <td>0</td>\n",
       "      <td>0</td>\n",
       "      <td>1</td>\n",
       "      <td>3866.85520</td>\n",
       "      <td>1</td>\n",
       "    </tr>\n",
       "    <tr>\n",
       "      <th>...</th>\n",
       "      <td>...</td>\n",
       "      <td>...</td>\n",
       "      <td>...</td>\n",
       "      <td>...</td>\n",
       "      <td>...</td>\n",
       "      <td>...</td>\n",
       "      <td>...</td>\n",
       "      <td>...</td>\n",
       "    </tr>\n",
       "    <tr>\n",
       "      <th>1333</th>\n",
       "      <td>50</td>\n",
       "      <td>1</td>\n",
       "      <td>30.970</td>\n",
       "      <td>3</td>\n",
       "      <td>0</td>\n",
       "      <td>1</td>\n",
       "      <td>10600.54830</td>\n",
       "      <td>2</td>\n",
       "    </tr>\n",
       "    <tr>\n",
       "      <th>1334</th>\n",
       "      <td>18</td>\n",
       "      <td>0</td>\n",
       "      <td>31.920</td>\n",
       "      <td>0</td>\n",
       "      <td>0</td>\n",
       "      <td>0</td>\n",
       "      <td>2205.98080</td>\n",
       "      <td>0</td>\n",
       "    </tr>\n",
       "    <tr>\n",
       "      <th>1335</th>\n",
       "      <td>18</td>\n",
       "      <td>0</td>\n",
       "      <td>36.850</td>\n",
       "      <td>0</td>\n",
       "      <td>0</td>\n",
       "      <td>2</td>\n",
       "      <td>1629.83350</td>\n",
       "      <td>0</td>\n",
       "    </tr>\n",
       "    <tr>\n",
       "      <th>1336</th>\n",
       "      <td>21</td>\n",
       "      <td>0</td>\n",
       "      <td>25.800</td>\n",
       "      <td>0</td>\n",
       "      <td>0</td>\n",
       "      <td>3</td>\n",
       "      <td>2007.94500</td>\n",
       "      <td>0</td>\n",
       "    </tr>\n",
       "    <tr>\n",
       "      <th>1337</th>\n",
       "      <td>61</td>\n",
       "      <td>0</td>\n",
       "      <td>29.070</td>\n",
       "      <td>0</td>\n",
       "      <td>1</td>\n",
       "      <td>1</td>\n",
       "      <td>29141.36030</td>\n",
       "      <td>2</td>\n",
       "    </tr>\n",
       "  </tbody>\n",
       "</table>\n",
       "<p>1338 rows × 8 columns</p>\n",
       "</div>"
      ],
      "text/plain": [
       "      age  sex     bmi  children  smoker  region      charges  age_group\n",
       "0      19    0  27.900         0       1       3  16884.92400          0\n",
       "1      18    1  33.770         1       0       2   1725.55230          0\n",
       "2      28    1  33.000         3       0       2   4449.46200          1\n",
       "3      33    1  22.705         0       0       1  21984.47061          1\n",
       "4      32    1  28.880         0       0       1   3866.85520          1\n",
       "...   ...  ...     ...       ...     ...     ...          ...        ...\n",
       "1333   50    1  30.970         3       0       1  10600.54830          2\n",
       "1334   18    0  31.920         0       0       0   2205.98080          0\n",
       "1335   18    0  36.850         0       0       2   1629.83350          0\n",
       "1336   21    0  25.800         0       0       3   2007.94500          0\n",
       "1337   61    0  29.070         0       1       1  29141.36030          2\n",
       "\n",
       "[1338 rows x 8 columns]"
      ]
     },
     "execution_count": 19,
     "metadata": {},
     "output_type": "execute_result"
    }
   ],
   "source": [
    "Insurance_dataset"
   ]
  },
  {
   "cell_type": "code",
   "execution_count": 20,
   "id": "3c2040aa-6cef-46ce-bcee-b3baa347839e",
   "metadata": {},
   "outputs": [
    {
     "data": {
      "text/html": [
       "<div>\n",
       "<style scoped>\n",
       "    .dataframe tbody tr th:only-of-type {\n",
       "        vertical-align: middle;\n",
       "    }\n",
       "\n",
       "    .dataframe tbody tr th {\n",
       "        vertical-align: top;\n",
       "    }\n",
       "\n",
       "    .dataframe thead th {\n",
       "        text-align: right;\n",
       "    }\n",
       "</style>\n",
       "<table border=\"1\" class=\"dataframe\">\n",
       "  <thead>\n",
       "    <tr style=\"text-align: right;\">\n",
       "      <th></th>\n",
       "      <th>age</th>\n",
       "      <th>sex</th>\n",
       "      <th>bmi</th>\n",
       "      <th>children</th>\n",
       "      <th>smoker</th>\n",
       "      <th>region</th>\n",
       "      <th>charges</th>\n",
       "      <th>age_group</th>\n",
       "    </tr>\n",
       "  </thead>\n",
       "  <tbody>\n",
       "    <tr>\n",
       "      <th>age</th>\n",
       "      <td>1.000000</td>\n",
       "      <td>-0.020856</td>\n",
       "      <td>0.109272</td>\n",
       "      <td>0.042469</td>\n",
       "      <td>-0.025019</td>\n",
       "      <td>0.002127</td>\n",
       "      <td>0.299008</td>\n",
       "      <td>0.869149</td>\n",
       "    </tr>\n",
       "    <tr>\n",
       "      <th>sex</th>\n",
       "      <td>-0.020856</td>\n",
       "      <td>1.000000</td>\n",
       "      <td>0.046371</td>\n",
       "      <td>0.017163</td>\n",
       "      <td>0.076185</td>\n",
       "      <td>0.004588</td>\n",
       "      <td>0.057292</td>\n",
       "      <td>-0.016988</td>\n",
       "    </tr>\n",
       "    <tr>\n",
       "      <th>bmi</th>\n",
       "      <td>0.109272</td>\n",
       "      <td>0.046371</td>\n",
       "      <td>1.000000</td>\n",
       "      <td>0.012759</td>\n",
       "      <td>0.003750</td>\n",
       "      <td>0.157566</td>\n",
       "      <td>0.198341</td>\n",
       "      <td>0.077402</td>\n",
       "    </tr>\n",
       "    <tr>\n",
       "      <th>children</th>\n",
       "      <td>0.042469</td>\n",
       "      <td>0.017163</td>\n",
       "      <td>0.012759</td>\n",
       "      <td>1.000000</td>\n",
       "      <td>0.007673</td>\n",
       "      <td>0.016569</td>\n",
       "      <td>0.067998</td>\n",
       "      <td>0.171721</td>\n",
       "    </tr>\n",
       "    <tr>\n",
       "      <th>smoker</th>\n",
       "      <td>-0.025019</td>\n",
       "      <td>0.076185</td>\n",
       "      <td>0.003750</td>\n",
       "      <td>0.007673</td>\n",
       "      <td>1.000000</td>\n",
       "      <td>-0.002181</td>\n",
       "      <td>0.787251</td>\n",
       "      <td>-0.015244</td>\n",
       "    </tr>\n",
       "    <tr>\n",
       "      <th>region</th>\n",
       "      <td>0.002127</td>\n",
       "      <td>0.004588</td>\n",
       "      <td>0.157566</td>\n",
       "      <td>0.016569</td>\n",
       "      <td>-0.002181</td>\n",
       "      <td>1.000000</td>\n",
       "      <td>-0.006208</td>\n",
       "      <td>-0.001274</td>\n",
       "    </tr>\n",
       "    <tr>\n",
       "      <th>charges</th>\n",
       "      <td>0.299008</td>\n",
       "      <td>0.057292</td>\n",
       "      <td>0.198341</td>\n",
       "      <td>0.067998</td>\n",
       "      <td>0.787251</td>\n",
       "      <td>-0.006208</td>\n",
       "      <td>1.000000</td>\n",
       "      <td>0.241600</td>\n",
       "    </tr>\n",
       "    <tr>\n",
       "      <th>age_group</th>\n",
       "      <td>0.869149</td>\n",
       "      <td>-0.016988</td>\n",
       "      <td>0.077402</td>\n",
       "      <td>0.171721</td>\n",
       "      <td>-0.015244</td>\n",
       "      <td>-0.001274</td>\n",
       "      <td>0.241600</td>\n",
       "      <td>1.000000</td>\n",
       "    </tr>\n",
       "  </tbody>\n",
       "</table>\n",
       "</div>"
      ],
      "text/plain": [
       "                age       sex       bmi  children    smoker    region  \\\n",
       "age        1.000000 -0.020856  0.109272  0.042469 -0.025019  0.002127   \n",
       "sex       -0.020856  1.000000  0.046371  0.017163  0.076185  0.004588   \n",
       "bmi        0.109272  0.046371  1.000000  0.012759  0.003750  0.157566   \n",
       "children   0.042469  0.017163  0.012759  1.000000  0.007673  0.016569   \n",
       "smoker    -0.025019  0.076185  0.003750  0.007673  1.000000 -0.002181   \n",
       "region     0.002127  0.004588  0.157566  0.016569 -0.002181  1.000000   \n",
       "charges    0.299008  0.057292  0.198341  0.067998  0.787251 -0.006208   \n",
       "age_group  0.869149 -0.016988  0.077402  0.171721 -0.015244 -0.001274   \n",
       "\n",
       "            charges  age_group  \n",
       "age        0.299008   0.869149  \n",
       "sex        0.057292  -0.016988  \n",
       "bmi        0.198341   0.077402  \n",
       "children   0.067998   0.171721  \n",
       "smoker     0.787251  -0.015244  \n",
       "region    -0.006208  -0.001274  \n",
       "charges    1.000000   0.241600  \n",
       "age_group  0.241600   1.000000  "
      ]
     },
     "execution_count": 20,
     "metadata": {},
     "output_type": "execute_result"
    }
   ],
   "source": [
    "# Computing the correlation matrix for the numerical features in the dataset\n",
    "Insurance_dataset.corr()"
   ]
  },
  {
   "cell_type": "code",
   "execution_count": 21,
   "id": "f94fc386-661a-4b61-ba5d-884eed4e157e",
   "metadata": {},
   "outputs": [
    {
     "data": {
      "image/png": "[encoded data removed]",
      "text/plain": [
       "<Figure size 1500x800 with 2 Axes>"
      ]
     },
     "metadata": {},
     "output_type": "display_data"
    }
   ],
   "source": [
    "# Creating a heatmap to visualize the correlation matrix of the dataset\n",
    "plt.figure(figsize = (15,8))\n",
    "sns.heatmap(Insurance_dataset.corr(), annot = True, linewidths = 2, linecolor = 'black')\n",
    "plt.show()"
   ]
  },
  {
   "cell_type": "markdown",
   "id": "29733708-f96c-497d-b8cb-398b9d22ecee",
   "metadata": {},
   "source": [
    "### Feature Selection Using Select KBest"
   ]
  },
  {
   "cell_type": "code",
   "execution_count": 22,
   "id": "cbcc48a0-a9a5-439c-865c-1263ad391301",
   "metadata": {},
   "outputs": [],
   "source": [
    "# Defining the feature and target variables for the model\n",
    "Features = Insurance_dataset.drop(['charges', 'age_group'], axis =1)\n",
    "y = Insurance_dataset['charges']"
   ]
  },
  {
   "cell_type": "code",
   "execution_count": 23,
   "id": "d3bd4a81-d59e-4892-a930-6060ad1fddef",
   "metadata": {},
   "outputs": [],
   "source": [
    "# Importing SelectKBest and f_classif from scikit-learn\n",
    "from sklearn.feature_selection import SelectKBest, f_classif"
   ]
  },
  {
   "cell_type": "code",
   "execution_count": 24,
   "id": "2e38f9aa-9d35-4c11-b258-8c1f6f4bfb1f",
   "metadata": {},
   "outputs": [],
   "source": [
    "# Creating a SelectKBest object to select the top 4 features based on their statistical relationship with the target\n",
    "kbest = SelectKBest(score_func = f_classif, k=4)"
   ]
  },
  {
   "cell_type": "code",
   "execution_count": 25,
   "id": "90db0067-bc46-46f2-9753-7ccab4693802",
   "metadata": {},
   "outputs": [
    {
     "data": {
      "text/plain": [
       "array([[27.9 ,  0.  ,  1.  ,  3.  ],\n",
       "       [33.77,  1.  ,  0.  ,  2.  ],\n",
       "       [33.  ,  3.  ,  0.  ,  2.  ],\n",
       "       ...,\n",
       "       [36.85,  0.  ,  0.  ,  2.  ],\n",
       "       [25.8 ,  0.  ,  0.  ,  3.  ],\n",
       "       [29.07,  0.  ,  1.  ,  1.  ]])"
      ]
     },
     "execution_count": 25,
     "metadata": {},
     "output_type": "execute_result"
    }
   ],
   "source": [
    "# Applying the SelectKBest feature selection to the dataset\n",
    "kbest.fit_transform(Features,y)"
   ]
  },
  {
   "cell_type": "code",
   "execution_count": 26,
   "id": "dac87774-0c52-4fd0-a85e-40eeb6158522",
   "metadata": {},
   "outputs": [
    {
     "data": {
      "text/plain": [
       "Index(['bmi', 'children', 'smoker', 'region'], dtype='object')"
      ]
     },
     "execution_count": 26,
     "metadata": {},
     "output_type": "execute_result"
    }
   ],
   "source": [
    "# Calling out the column names selected by SelectKBest (feature selection)\n",
    "\n",
    "# Get the indices of the top selected features (those with the highest scores)\n",
    "feat_indices = kbest.get_support(indices = True)\n",
    "\n",
    "# Use those indices to retrieve the actual column names from the original feature set\n",
    "feat_names = Features.columns[feat_indices]\n",
    "\n",
    "# Display the names of the selected features\n",
    "feat_names"
   ]
  },
  {
   "cell_type": "code",
   "execution_count": 27,
   "id": "b9223615-ca0f-439a-94de-eed208a47066",
   "metadata": {},
   "outputs": [],
   "source": [
    "# Selecting a subset of features from the dataset to use as predictors:\n",
    "\n",
    "X = Insurance_dataset[['bmi', 'children', 'smoker', 'region']]"
   ]
  },
  {
   "cell_type": "markdown",
   "id": "627eedd3-3e13-4af2-a9d5-3dd9f6f337f2",
   "metadata": {},
   "source": [
    "### Feature Splitting"
   ]
  },
  {
   "cell_type": "code",
   "execution_count": 28,
   "id": "9b5bdc74-11db-4129-b2ab-30f7914e7b60",
   "metadata": {},
   "outputs": [],
   "source": [
    "# Importing the train_test_split to split the features into training and testing subsets \n",
    "\n",
    "from sklearn.model_selection import train_test_split"
   ]
  },
  {
   "cell_type": "code",
   "execution_count": 29,
   "id": "4228fd82-0a81-4ee2-add2-7fb4a1ba5515",
   "metadata": {},
   "outputs": [],
   "source": [
    "# Splitting the dataset into training and testing sets.\n",
    "# - X: feature variables (independent variables)\n",
    "# - y: target variable (dependent variable, in this case: 'charges')\n",
    "# - test_size=0.2: 20% of the data will be used for testing, 80% for training\n",
    "# - random_state=42: ensures reproducibility (same split every time you run the code)\n",
    "\n",
    "X_train, X_test, y_train, y_test = train_test_split(X, y, test_size=0.2, random_state=42)"
   ]
  },
  {
   "cell_type": "markdown",
   "id": "78d5b39f-8806-4608-9f44-4b4a24dcc931",
   "metadata": {},
   "source": [
    "### Linear Regression Algorithm"
   ]
  },
  {
   "cell_type": "code",
   "execution_count": 30,
   "id": "22d988bd-735b-4dde-801d-b21cdc101cf6",
   "metadata": {},
   "outputs": [],
   "source": [
    "# Importing the LinearRegression class from scikit-learn's linear_model module\n",
    "from sklearn.linear_model import LinearRegression"
   ]
  },
  {
   "cell_type": "code",
   "execution_count": 31,
   "id": "65668f8f-c0f5-40d0-89f3-96a48eb2f2c1",
   "metadata": {},
   "outputs": [],
   "source": [
    "# Creating an instance of the LinearRegression model\n",
    "linear_model = LinearRegression()"
   ]
  },
  {
   "cell_type": "code",
   "execution_count": 32,
   "id": "2c91858d-3348-4df4-b7ce-1e4d35cee44e",
   "metadata": {},
   "outputs": [],
   "source": [
    "# Fitting the linear regression model to the training data\n",
    "lr_model = linear_model.fit(X_train, y_train)"
   ]
  },
  {
   "cell_type": "code",
   "execution_count": 33,
   "id": "d21295d7-4177-4a4b-83f4-9edf811989e7",
   "metadata": {},
   "outputs": [
    {
     "data": {
      "text/plain": [
       "array([ 7346.71197651,  7823.67017872, 29725.13120035,  7916.31545589,\n",
       "       31772.76477967, 13126.89912632,  4771.53710766, 11030.34163312,\n",
       "        2919.23912891,  9113.98792681, 30000.5240146 ,  9276.27914693,\n",
       "        7986.59370193, 37573.03402009, 35160.27959297, 35575.85467295,\n",
       "       13920.4350248 , 34026.0232776 ,  7360.30656943, 29725.13120035,\n",
       "        7841.58274549,  9548.49627437,  7432.99897759, 12075.63834208,\n",
       "        8882.18035179,  9178.04365436,  9344.39477159,  9809.41065186,\n",
       "        7926.23091405,  7599.86698122,  9427.25381221,  8557.7274996 ,\n",
       "        9523.46317391,  5559.60510989,  7880.72769172, 12075.63834208,\n",
       "        6416.67984951,  7840.05969611, 29215.12861771, 33444.47094027,\n",
       "        9752.97853949,  8974.95521702, 10239.47143751,  5969.20957858,\n",
       "       11102.14292854,  6864.0278013 , 10512.58621369,  6783.45333476,\n",
       "       34978.41589972, 12175.77801283, 10105.01551123,  7897.12411157,\n",
       "       13070.22237566,  6512.25654167,  9344.52399319, 10167.03747255,\n",
       "        6241.81437082, 34608.46636121,  8531.03485925,  9409.85122938,\n",
       "        8002.35091623, 14099.37420551, 11582.27681756,  6996.8379926 ,\n",
       "        8443.98633348,  6772.78325436, 31139.60865422,  7910.08603495,\n",
       "        5381.93780426, 11133.78657874, 11565.63575943, 10244.30666422,\n",
       "        8897.17604141,  9715.364278  , 11431.17293069,  7510.39739087,\n",
       "       10970.61114833,  6046.47877025,  9983.77304907,  7352.80527339,\n",
       "        8897.17604141, 29920.46680092,  8409.79239709, 35197.90075691,\n",
       "       40512.56857851, 32006.73497607, 10012.62140835,  8944.07345797,\n",
       "        9314.91374277, 11785.61679565, 12601.01701023, 27868.50797884,\n",
       "       30299.0599225 ,  8351.21146825, 33668.14491617,  9385.8242919 ,\n",
       "       30894.58761509,  8762.97165587, 30242.75703172,  6651.28925146,\n",
       "        7777.2827461 ,  6822.97904334, 11715.46813766, 11582.27681756,\n",
       "        5507.75704993, 10268.06825604,  9044.34235032, 27018.54687044,\n",
       "        4619.1613457 , 28434.17388026,  8531.03485925, 14875.75215945,\n",
       "        9672.54056346, 32655.77026851,  9015.75243424,  9100.76756023,\n",
       "        7516.75603341, 30325.48721719,  9089.0771455 ,  7352.30219191,\n",
       "       10020.25192598, 10744.39378871, 12716.92079773,  9926.07633052,\n",
       "        6533.22284257, 10280.77863867, 10447.00743676,  8629.40647588,\n",
       "        9657.66755944, 12386.49006534,  7107.78423426, 11130.99128781,\n",
       "       11146.87772372, 11457.4848087 ,  8409.0308724 , 10768.15538053,\n",
       "       10221.17774194, 30446.72967935, 34631.72487155, 31581.75442187,\n",
       "        6548.72851612,  9680.29340023,  9747.1371498 , 12096.60464297,\n",
       "        5810.47517407, 29878.13926541,  8001.33748434,  6904.31503457,\n",
       "       12243.39018954,  8084.06766981, 35612.96585295,  7050.97826199,\n",
       "       12073.34649909, 33351.19299356, 12722.51101313,  9989.37016692,\n",
       "        8946.23607935,  7897.12411157, 31984.10913528, 33003.48163103,\n",
       "       10051.13368504,  6695.51406269,  6701.73658118,  5855.46841246,\n",
       "       10199.56496658, 11683.69526586, 33578.16534186, 31463.68801298,\n",
       "       32423.96269349,  7392.33098198,  4342.61207304,  8897.42758215,\n",
       "       13234.67621716,  6772.78325436,  6090.95512223, 29463.07416937,\n",
       "       29511.36578016, 11804.93772802, 27237.01139328,  5041.97927851,\n",
       "       30345.44735511,  3336.46684633,  4184.26533334,  9385.44352955,\n",
       "        6875.3439897 ,  9175.88103298,  8552.13728421,  6334.96309593,\n",
       "       14383.66941248,  6857.80528281, 11988.95677373,  7748.56360843,\n",
       "        5314.58407075, 34229.61479643, 11133.91580034,  9210.31960766,\n",
       "        6193.26431682,  8853.46121412,  6589.52573334,  5480.93518798,\n",
       "        4655.63332015, 29918.30417953, 14546.7221573 ,  7924.06829267,\n",
       "       30044.62650669, 28584.2647017 ,  6355.55553694,  6100.48945159,\n",
       "       11670.73334249,  4139.27209496,  3772.87937206,  5705.11914782,\n",
       "       16657.64957302, 29523.69540045,  6718.13300102,  7246.31386256,\n",
       "        7449.77615979,  8491.63837227,  5318.39242711,  9865.45509944,\n",
       "       10141.74592889, 11687.12976233, 16096.55355265, 35217.97631152,\n",
       "        8673.63128711, 31402.55679795,  3447.53540713,  8055.47775373,\n",
       "        8165.53288264, 14649.15367103, 10328.68948712,  2955.71110336,\n",
       "        6295.05662501, 29552.03377578,  3071.61489087, 10328.68948712,\n",
       "        9392.18293444,  8937.71481542, 36157.40701027,  9076.11522212,\n",
       "        3344.21968311, 33904.27083149,  9639.49618302,  8120.79808747,\n",
       "        5853.30579107,  8248.65073292,  7474.4284979 ,  8490.74762598,\n",
       "       17406.82453621,  2723.90352834,  7107.65501266, 11256.93285263,\n",
       "        5562.27117921,  4928.23811239,  9168.1281962 ,  9060.22878622,\n",
       "        6822.97904334, 10018.0893046 ,  5044.1418999 , 10120.65003993,\n",
       "        9113.98792681,  4192.01817012, 30373.65650884, 32789.33544849,\n",
       "        6664.63230363,  7895.34915499, 37799.63250851,  9588.78350764])"
      ]
     },
     "execution_count": 33,
     "metadata": {},
     "output_type": "execute_result"
    }
   ],
   "source": [
    "# Using the trained linear regression model to make predictions on the test data\n",
    "predictions = lr_model.predict(X_test)\n",
    "\n",
    "# Displaying the predicted insurance charges\n",
    "predictions"
   ]
  },
  {
   "cell_type": "code",
   "execution_count": 34,
   "id": "05c3623b-2299-4b4b-9b60-74fca0b39c6a",
   "metadata": {},
   "outputs": [],
   "source": [
    "# Importing common evaluation metrics for regression models from scikit-learn:\n",
    "# - mean_absolute_error: average absolute difference between predicted and actual values\n",
    "# - mean_squared_error: average of squared differences (penalizes larger errors more)\n",
    "# - r2_score: measures how well the model explains the variance in the target (1.0 = perfect fit)\n",
    "\n",
    "from sklearn.metrics import mean_absolute_error, mean_squared_error, r2_score"
   ]
  },
  {
   "cell_type": "code",
   "execution_count": 35,
   "id": "02055e67-19bb-4bc5-8df4-da99bbb26f1b",
   "metadata": {},
   "outputs": [
    {
     "name": "stdout",
     "output_type": "stream",
     "text": [
      " The Mean Absolute Error is 5461.086611928256\n"
     ]
    }
   ],
   "source": [
    "# Calculating the Mean Absolute Error\n",
    "MAE = mean_absolute_error(y_test, predictions)\n",
    "\n",
    "print(f' The Mean Absolute Error is {MAE}')"
   ]
  },
  {
   "cell_type": "code",
   "execution_count": 36,
   "id": "abcc3baa-3670-4bc0-aad8-2c62013e14d9",
   "metadata": {},
   "outputs": [
    {
     "name": "stdout",
     "output_type": "stream",
     "text": [
      " The Mean Squared Error is 47011469.76265279\n"
     ]
    }
   ],
   "source": [
    "# Calculating the Mean Squared Error\n",
    "MSE = mean_squared_error(y_test, predictions)\n",
    "\n",
    "print(f' The Mean Squared Error is {MSE}')"
   ]
  },
  {
   "cell_type": "code",
   "execution_count": 37,
   "id": "b0f6b6b1-32c0-49cd-9d75-dab2a69f8d77",
   "metadata": {},
   "outputs": [
    {
     "name": "stdout",
     "output_type": "stream",
     "text": [
      " The Root Mean Squared Error is 6856.491067787721\n"
     ]
    }
   ],
   "source": [
    "# Calculating the Root Mean Squared Error\n",
    "RMSE = np.sqrt(MSE)\n",
    "\n",
    "print(f' The Root Mean Squared Error is {RMSE}')"
   ]
  },
  {
   "cell_type": "code",
   "execution_count": 38,
   "id": "7e40ce16-8e31-4944-b82b-9998a9947d04",
   "metadata": {},
   "outputs": [
    {
     "name": "stdout",
     "output_type": "stream",
     "text": [
      " The R2 score is 0.6971861263475515\n"
     ]
    }
   ],
   "source": [
    "# Calculating the R² score (coefficient of determination) to evaluate the model's performance\n",
    "R2_score = r2_score(y_test, predictions)\n",
    "\n",
    "print(f' The R2 score is {R2_score}')"
   ]
  },
  {
   "cell_type": "markdown",
   "id": "2c5b487c-8e2b-441e-a6eb-0a16573ebf9b",
   "metadata": {},
   "source": [
    "#### Checking The Linear Regression Model's Accuracy"
   ]
  },
  {
   "cell_type": "code",
   "execution_count": 39,
   "id": "5404a3c5-70c4-4ccc-8f2c-ac7622db76a3",
   "metadata": {},
   "outputs": [],
   "source": [
    "# Making predictions on the training data using the trained Linear Regression model to see how well the model fits the training data\n",
    "predictions_train = lr_model.predict(X_train)"
   ]
  },
  {
   "cell_type": "code",
   "execution_count": 40,
   "id": "c6bf7e52-d549-4b3c-95a9-386288f21b1d",
   "metadata": {},
   "outputs": [
    {
     "name": "stdout",
     "output_type": "stream",
     "text": [
      " The R2 score is 0.652964124762761\n"
     ]
    }
   ],
   "source": [
    "# Calculating the R² score (coefficient of determination) to evaluate the model's performance\n",
    "R2_score_train = r2_score(y_train, predictions_train)\n",
    "\n",
    "print(f' The R2 score is {R2_score_train}')"
   ]
  },
  {
   "cell_type": "markdown",
   "id": "27d3a5df-371c-4f9d-99ec-85786998a70d",
   "metadata": {},
   "source": [
    "#### Findings\n",
    "* The R² score of the Test data is **0.6971861263475515**\n",
    "* The R² score of the Train data is **0.652964124762761**\n",
    "\n",
    "The Test R² is higher than the Train R², which is unusual but not necessarily bad. It might be due to:\n",
    "* Slight randomness in the data split\n",
    "* Some variance in the test set is easier to predict\n",
    "\n",
    "##### There's no clear sign of overfitting or underfitting — the model is reasonably balanced."
   ]
  },
  {
   "cell_type": "markdown",
   "id": "f5da377e-db29-4728-9d56-2049c32170a1",
   "metadata": {},
   "source": [
    "### Decision Tree Regressor"
   ]
  },
  {
   "cell_type": "code",
   "execution_count": 41,
   "id": "969106d2-50ee-4a24-9704-bd5787cf8427",
   "metadata": {},
   "outputs": [],
   "source": [
    "# Importing the DecisionTreeRegressor from scikit-learn\n",
    "from sklearn.tree import DecisionTreeRegressor"
   ]
  },
  {
   "cell_type": "code",
   "execution_count": 42,
   "id": "1ca75b36-e08d-4a60-ad83-8c58f0ebdbc4",
   "metadata": {},
   "outputs": [],
   "source": [
    "# Create an instance of the DecisionTreeRegressor model for regression tasks\n",
    "DTR_model = DecisionTreeRegressor()"
   ]
  },
  {
   "cell_type": "code",
   "execution_count": 43,
   "id": "a9037abe-9722-4339-948c-0c17e461bfb8",
   "metadata": {},
   "outputs": [],
   "source": [
    "# Fitting the Decision Tree Regressor model using the training data (features and target)\n",
    "model_2 = DTR_model.fit(X_train, y_train)"
   ]
  },
  {
   "cell_type": "code",
   "execution_count": 44,
   "id": "192452e8-9e1b-46ff-8b9f-07ee6e70d180",
   "metadata": {},
   "outputs": [
    {
     "data": {
      "text/plain": [
       "array([23241.47453 , 18914.289155, 28950.4692  ,  5312.16985 ,\n",
       "       45710.20785 ,  3410.324   ,  2402.6434  ,  7669.0994  ,\n",
       "        1694.7964  , 14394.39815 , 25382.297   , 24059.68019 ,\n",
       "        4562.8421  , 43753.33705 , 38126.2465  , 40932.4295  ,\n",
       "        5124.1887  , 42760.5022  ,  6770.1925  , 28950.4692  ,\n",
       "        3847.674   ,  7954.517   ,  8116.68    ,  6362.3398  ,\n",
       "       10702.6424  , 10435.06525 ,  7348.142   ,  6077.6219  ,\n",
       "        4435.0942  ,  2897.4037  ,  6059.173   ,  2261.5688  ,\n",
       "        2020.177   ,  8605.3615  , 10214.636   ,  6362.3398  ,\n",
       "        5472.449   , 10214.636   , 15817.9857  , 44423.803   ,\n",
       "       11253.421   ,  9290.1395  , 27724.28875 ,  1708.0014  ,\n",
       "        7160.094   ,  6315.423   , 12269.68865 ,  5708.867   ,\n",
       "       37465.34375 ,  8347.1643  , 12567.404815,  3392.3652  ,\n",
       "        7650.77375 ,  5227.98875 ,  1137.4697  ,  4678.4159  ,\n",
       "        1708.0014  , 60021.39897 , 10369.42    ,  9722.7695  ,\n",
       "        8018.2795  ,  5846.9176  , 10381.4787  , 30284.64294 ,\n",
       "        3857.75925 , 17094.75126 , 19199.944   ,  5312.16985 ,\n",
       "        9566.9909  , 10601.412   ,  9048.0273  , 19614.86568 ,\n",
       "        1135.9407  ,  9630.397   ,  9877.6077  , 13457.9608  ,\n",
       "       26018.95052 ,  1632.56445 ,  6066.066   ,  3906.127   ,\n",
       "        1135.9407  , 28950.4692  , 11881.358   , 39774.2763  ,\n",
       "       46113.511   , 45710.20785 ,  7992.5896  , 13844.7972  ,\n",
       "       24059.68019 , 10381.4787  , 24915.04626 , 26926.5144  ,\n",
       "       38245.59327 ,  7144.86265 , 40273.6455  ,  9630.397   ,\n",
       "       27218.43725 , 20781.48892 , 24106.91255 ,  8252.2843  ,\n",
       "        6664.68595 ,  8277.523   ,  1634.5734  , 10381.4787  ,\n",
       "        1705.6245  , 14474.675   , 24059.68019 , 14571.8908  ,\n",
       "        3353.4703  , 21098.55405 , 10369.42    ,  9549.5651  ,\n",
       "       15391.29773 , 41919.097   , 10797.3362  , 20781.48892 ,\n",
       "        7435.86855 , 19040.876   , 24059.68019 , 13937.6665  ,\n",
       "        9722.7695  , 12643.3778  , 24915.04626 ,  8124.4084  ,\n",
       "        3077.0955  ,  4058.71245 , 27724.28875 , 11286.5387  ,\n",
       "        7348.142   , 17660.48007 ,  2156.7518  ,  8596.8278  ,\n",
       "       11163.568   , 14410.9321  ,  1748.774   ,  3277.161   ,\n",
       "        7422.04185 , 33307.5508  , 40419.0191  , 37889.75465 ,\n",
       "       11082.5772  , 13143.86485 ,  3268.84665 ,  5428.7277  ,\n",
       "        7949.6001  , 19199.944   ,  6455.86265 , 11842.442   ,\n",
       "       10848.1343  ,  8612.229   , 47896.79135 , 12224.35085 ,\n",
       "       17878.90068 , 39047.285   ,  6610.1097  ,  7422.04185 ,\n",
       "        2130.6759  ,  3392.3652  , 40974.1649  , 40003.33225 ,\n",
       "       16069.08475 , 17094.75126 ,  5708.867   ,  8534.6718  ,\n",
       "        7954.517   ,  4673.3922  , 46642.771005, 34806.4677  ,\n",
       "       46130.5265  ,  8116.68    ,  1832.094   ,  4149.736   ,\n",
       "       11326.71487 , 17094.75126 ,  5969.723   , 21771.3423  ,\n",
       "       16884.924   ,  1984.4533  , 15006.57945 ,  6250.435   ,\n",
       "       20984.0936  ,  1694.7964  ,  5855.9025  ,  7445.918   ,\n",
       "        4428.88785 , 20878.78443 , 12730.9996  , 12548.552885,\n",
       "        9058.7303  ,  7421.19455 ,  7556.0545  , 10796.35025 ,\n",
       "       10197.7722  , 47403.88    , 11856.4115  ,  5138.981   ,\n",
       "        2709.24395 ,  3537.703   ,  2721.3208  ,  1990.4475  ,\n",
       "        7147.105   , 17178.6824  ,  5846.9176  ,  4189.1131  ,\n",
       "       26109.32905 , 17904.52705 ,  7419.4779  , 12475.3513  ,\n",
       "        5400.9805  ,  1832.094   , 10065.413   , 13012.20865 ,\n",
       "       11538.421   , 28950.4692  , 30284.64294 ,  1967.0227  ,\n",
       "        5484.4673  , 19749.38338 , 11193.5383  ,  6289.7549  ,\n",
       "       11362.755   ,  2253.9766  ,  8944.1151  , 58571.07448 ,\n",
       "        2130.6759  , 34303.1672  ,  9264.797   ,  1639.5631  ,\n",
       "        2897.4037  , 12485.8009  ,  7758.901   , 11534.87265 ,\n",
       "        5708.867   , 16884.924   , 11534.87265 ,  7758.901   ,\n",
       "       24059.68019 ,  1261.442   , 47269.854   ,  1817.4069  ,\n",
       "       11534.87265 , 40103.89    , 11743.9341  ,  5478.0368  ,\n",
       "        2045.68525 ,  3062.50825 ,  7726.854   ,  4402.233   ,\n",
       "       11538.421   ,  2680.9493  , 13571.56313 ,  3443.064   ,\n",
       "        1990.4475  ,  2585.85065 , 11763.0009  ,  8871.1517  ,\n",
       "        8277.523   ,  4920.0898  ,  9361.3268  , 10141.1362  ,\n",
       "       14394.39815 ,  7222.78625 , 23247.0203  , 44423.803   ,\n",
       "       11082.5772  ,  4454.40265 , 45863.205   ,  4412.023   ])"
      ]
     },
     "execution_count": 44,
     "metadata": {},
     "output_type": "execute_result"
    }
   ],
   "source": [
    "# Using the trained Decision Tree model to make predictions on the test data\n",
    "predictions_2 = model_2.predict(X_test)\n",
    "\n",
    "# Displaying the predicted insurance charges\n",
    "predictions_2"
   ]
  },
  {
   "cell_type": "code",
   "execution_count": 45,
   "id": "4aa42a2f-4699-4365-a14f-387fd4290b64",
   "metadata": {},
   "outputs": [
    {
     "name": "stdout",
     "output_type": "stream",
     "text": [
      " The Mean Absolute Error is 6117.577331309702\n"
     ]
    }
   ],
   "source": [
    "# Calculating the Mean Absolute Error\n",
    "MAE_2 = mean_absolute_error(y_test, predictions_2)\n",
    "\n",
    "print(f' The Mean Absolute Error is {MAE_2}')"
   ]
  },
  {
   "cell_type": "code",
   "execution_count": 46,
   "id": "6597e816-8a85-48d6-a0fa-b9b3cb32aee8",
   "metadata": {},
   "outputs": [
    {
     "name": "stdout",
     "output_type": "stream",
     "text": [
      " The Mean Squared Error is 70493886.03919892\n"
     ]
    }
   ],
   "source": [
    "# Calculating the Mean Squared Error\n",
    "MSE_2 = mean_squared_error(y_test, predictions_2)\n",
    "\n",
    "print(f' The Mean Squared Error is {MSE_2}')"
   ]
  },
  {
   "cell_type": "code",
   "execution_count": 47,
   "id": "8023646b-72e3-431b-aea1-db33b284bf57",
   "metadata": {},
   "outputs": [
    {
     "name": "stdout",
     "output_type": "stream",
     "text": [
      " The Root Mean Squared Error is 8396.063722912\n"
     ]
    }
   ],
   "source": [
    "# Calculating the Root Mean Squared Error\n",
    "RMSE_2 = np.sqrt(MSE_2)\n",
    "\n",
    "print(f' The Root Mean Squared Error is {RMSE_2}')"
   ]
  },
  {
   "cell_type": "code",
   "execution_count": 48,
   "id": "20b81728-3800-462c-8112-88e58b1d4b57",
   "metadata": {},
   "outputs": [
    {
     "name": "stdout",
     "output_type": "stream",
     "text": [
      " The R2 score is 0.5459293911014382\n"
     ]
    }
   ],
   "source": [
    "# Calculating the R² score (coefficient of determination) to evaluate the model's performance\n",
    "R2_score_2 = r2_score(y_test, predictions_2)\n",
    "\n",
    "print(f' The R2 score is {R2_score_2}')"
   ]
  },
  {
   "cell_type": "markdown",
   "id": "5936ca15-0599-4731-bbf2-0d34613dc04f",
   "metadata": {},
   "source": [
    "#### Checking The Decision Tree Regressor Model's Accuracy"
   ]
  },
  {
   "cell_type": "code",
   "execution_count": 49,
   "id": "3a802415-f3d6-4189-a1b2-aa91c8c53b26",
   "metadata": {},
   "outputs": [],
   "source": [
    "# Making predictions on the training data using the trained Decision Tree Regressor model to see how well the model fits the training data\n",
    "predictions_train_2 = lr_model.predict(X_train)"
   ]
  },
  {
   "cell_type": "code",
   "execution_count": 50,
   "id": "21da4532-efc9-4d7b-ab0d-9eb3dcb86277",
   "metadata": {},
   "outputs": [
    {
     "name": "stdout",
     "output_type": "stream",
     "text": [
      " The R2 score is 0.652964124762761\n"
     ]
    }
   ],
   "source": [
    "# Calculating the R² score (coefficient of determination) to evaluate the model's performance\n",
    "R2_score_train_2 = r2_score(y_train, predictions_train_2)\n",
    "\n",
    "print(f' The R2 score is {R2_score_train_2}')"
   ]
  },
  {
   "cell_type": "markdown",
   "id": "d6f2d6c4-0d94-4af9-af53-63202af974ce",
   "metadata": {},
   "source": [
    "#### Findings\n",
    "* The R² score of the Test data is **0.5566717508974519**\n",
    "* The R² score of the Train data is **0.652964124762761**\n",
    "\n",
    "The train score is higher than the test score, which is a typical sign of mild underfitting.\n",
    "\n",
    "The model does better on the training data than on unseen data, which is common with decision trees when:\n",
    "* The tree is too deep (complex)\n",
    "* There's not enough regularization"
   ]
  },
  {
   "cell_type": "markdown",
   "id": "69d67b75-d510-4b5c-ac9f-68ee777e8f88",
   "metadata": {},
   "source": [
    "### Random Forest Regressor"
   ]
  },
  {
   "cell_type": "code",
   "execution_count": 51,
   "id": "5cc9e4a9-85ce-4216-9566-e324d6290d72",
   "metadata": {},
   "outputs": [],
   "source": [
    "# Importing the RandomForestRegressor from scikit-learn's ensemble module\n",
    "from sklearn.ensemble import RandomForestRegressor"
   ]
  },
  {
   "cell_type": "code",
   "execution_count": 52,
   "id": "10ce051a-23e1-459e-914a-1034184827fe",
   "metadata": {},
   "outputs": [],
   "source": [
    "# Creating an instance of the RandomForestRegressor model with default parameters\n",
    "RFR_model = RandomForestRegressor()"
   ]
  },
  {
   "cell_type": "code",
   "execution_count": 53,
   "id": "038c00c7-133d-4465-a2a5-969ccf2bf644",
   "metadata": {},
   "outputs": [],
   "source": [
    "# Fitting the Random Forest Regressor model on the training data\n",
    "model_3 = RFR_model.fit(X_train, y_train)"
   ]
  },
  {
   "cell_type": "code",
   "execution_count": 54,
   "id": "97b10d98-4137-4fba-a46d-0a5b68a8ac69",
   "metadata": {},
   "outputs": [
    {
     "data": {
      "text/plain": [
       "array([18020.16890197, 17740.069433  , 26140.755953  ,  8082.5570711 ,\n",
       "       41709.1384125 ,  7906.3255614 ,  4143.7384593 ,  6238.45595975,\n",
       "        5742.8649019 ,  8412.6810693 , 21319.7439977 , 19964.69723087,\n",
       "        5087.18560575, 44943.709357  , 41328.5560961 , 40517.91879385,\n",
       "        6174.9614474 , 43089.1215236 ,  7361.7508805 , 26140.755953  ,\n",
       "        6755.8284012 , 10087.0678126 ,  8246.9071195 ,  6641.62344275,\n",
       "       11667.5649989 ,  9716.6023899 ,  4220.3703135 ,  7545.8250274 ,\n",
       "        8930.347971  ,  8109.18443407,  6506.669664  ,  7165.8275185 ,\n",
       "        5309.0539085 ,  7105.5095655 ,  7607.16239967,  6641.62344275,\n",
       "        8991.7217717 ,  7656.15563517, 18881.9957599 , 41593.4937    ,\n",
       "        9714.738504  ,  8289.3221174 ,  8585.300636  ,  5128.69230602,\n",
       "        9922.3396961 ,  6661.31646486, 12900.3857729 ,  6743.7550966 ,\n",
       "       42403.9485465 ,  9117.11888863, 11348.05375815,  4152.9424275 ,\n",
       "        7362.8618121 ,  4807.48341336,  2453.760457  , 12248.15849899,\n",
       "        3493.1325027 , 51556.0895038 , 10667.03445732,  8959.0240093 ,\n",
       "        9843.5131443 ,  6007.6922784 ,  8013.4505865 , 17108.5876269 ,\n",
       "        3916.4865445 ,  7414.1727631 , 22694.4736005 ,  8209.1675027 ,\n",
       "        9213.63643085, 10125.40019057, 15671.7230071 , 17892.58210443,\n",
       "        3059.57914628,  9755.1453973 ,  9508.6640362 , 10165.4938785 ,\n",
       "       14708.88405   ,  5887.05566082,  8676.7094482 ,  7242.990472  ,\n",
       "        3059.57914628, 22436.0415166 , 10161.82423115, 43454.1202406 ,\n",
       "       45401.579457  , 38008.4719923 , 14057.44889201, 11627.6682286 ,\n",
       "       19193.08728727,  7827.2240488 , 19213.3652964 , 22952.66462569,\n",
       "       28544.4188446 ,  8076.65427327, 41346.4412444 ,  7851.22890836,\n",
       "       22006.3094622 , 15387.3187204 , 22133.207862  ,  8410.356811  ,\n",
       "        5656.1950765 ,  8259.68587059,  4073.5657221 ,  8013.4505865 ,\n",
       "        3478.0952877 , 13274.2256387 , 12023.35152733, 16183.2331249 ,\n",
       "        7417.9343092 , 23330.29297405, 10667.03445732,  8816.809809  ,\n",
       "       13798.24577677, 42170.091392  , 10620.2810417 , 11393.6895591 ,\n",
       "        6637.6669925 , 23274.6732214 ,  9801.09227563, 11789.9740896 ,\n",
       "        8061.943933  ,  9803.6318693 , 16813.57992103,  8973.910171  ,\n",
       "        5453.32818408,  8201.1807529 ,  9262.0129317 , 10242.15165658,\n",
       "        6961.3164495 , 16573.55778611,  4691.812363  ,  9558.1330351 ,\n",
       "        9229.3160163 , 13170.03032178,  8316.8906237 ,  5321.7328166 ,\n",
       "        6354.5754305 , 31120.0095953 , 42711.24671278, 37628.3442    ,\n",
       "        8298.2527641 , 13091.4861028 ,  4161.11874   , 12391.48240577,\n",
       "        8160.4471966 , 21987.0170822 ,  8818.2332955 ,  9242.5466258 ,\n",
       "       10331.8572714 ,  8724.3717811 , 46719.6258468 ,  9252.4590565 ,\n",
       "        9659.90522   , 40952.5249165 ,  5584.7876697 ,  7179.4894085 ,\n",
       "        4795.605136  ,  4152.9424275 , 41267.011844  , 39815.3294118 ,\n",
       "       14231.64105357,  7228.08189249,  7079.434099  ,  8174.7560965 ,\n",
       "       11753.4586117 ,  5562.29542179, 42364.87554801, 35577.7743648 ,\n",
       "       39099.526116  ,  8203.920707  ,  8850.9080865 ,  5216.6530759 ,\n",
       "       12954.23709291,  7414.1727631 ,  9482.31893838, 21225.54284433,\n",
       "       19792.4182265 ,  7067.594469  , 14634.328599  ,  9482.02700009,\n",
       "       21408.3416758 ,  5665.6889859 ,  6359.2953045 ,  6872.88818489,\n",
       "        9905.2086799 , 14599.6903271 , 11167.0528563 , 10200.29153944,\n",
       "        8893.5421131 ,  8958.18135434,  7436.0995921 ,  7697.140134  ,\n",
       "        8940.47612167, 46367.7736274 , 11304.00918953,  5045.142118  ,\n",
       "        7584.6051663 ,  6606.7728476 ,  9691.727469  ,  4239.9858715 ,\n",
       "        4429.4178701 , 21034.618369  ,  6520.7426267 ,  7554.56876887,\n",
       "       25426.7420627 , 20112.121311  ,  9062.2278585 ,  9533.6786585 ,\n",
       "        4675.9118222 ,  4070.108773  ,  6679.569158  ,  6651.4488326 ,\n",
       "        8346.4727301 , 22011.7234925 , 14530.93241145,  2966.64724895,\n",
       "        5782.1691705 , 16422.5220031 ,  7206.99903025,  6241.8026703 ,\n",
       "        6604.418523  ,  4243.40904657,  8983.901064  , 43032.40361471,\n",
       "        3129.4683555 , 36288.6338843 ,  6510.101319  ,  3635.1541268 ,\n",
       "        3808.37879738, 12357.8715867 ,  7301.88959665,  5965.5022157 ,\n",
       "        5968.8694742 , 19589.346344  ,  9151.1698891 ,  7301.88959665,\n",
       "        9930.46780497,  2345.58052943, 45636.0255505 ,  4207.665499  ,\n",
       "       10138.710878  , 40445.8309021 , 10086.6864075 ,  5445.5430915 ,\n",
       "        5555.07477312,  6794.6090404 ,  7924.910936  , 10824.6602196 ,\n",
       "        8794.0138262 ,  3952.5908452 , 12539.45527877,  8651.16729258,\n",
       "        3837.8604304 ,  6283.1256775 ,  8741.2542179 ,  8887.0707553 ,\n",
       "        8259.68587059,  5501.8646373 ,  6880.7016225 ,  8851.8888751 ,\n",
       "        8412.6810693 ,  5391.3653705 , 22962.50563614, 42134.7548494 ,\n",
       "        9353.9989286 ,  7974.2566552 , 43961.951049  ,  5010.2688597 ])"
      ]
     },
     "execution_count": 54,
     "metadata": {},
     "output_type": "execute_result"
    }
   ],
   "source": [
    "# Using the trained Random Forest Regressor model to make predictions on the test set\n",
    "predictions_3 = RFR_model.predict(X_test)\n",
    "\n",
    "# Displaying the predicted insurance charges\n",
    "predictions_3"
   ]
  },
  {
   "cell_type": "code",
   "execution_count": 55,
   "id": "d6b15527-f445-478e-b955-3ac677ce0a32",
   "metadata": {},
   "outputs": [
    {
     "name": "stdout",
     "output_type": "stream",
     "text": [
      " The Mean Absolute Error is 4903.852728440218\n"
     ]
    }
   ],
   "source": [
    "# Calculating the Mean Absolute Error\n",
    "MAE_3 = mean_absolute_error(y_test, predictions_3)\n",
    "\n",
    "print(f' The Mean Absolute Error is {MAE_3}')"
   ]
  },
  {
   "cell_type": "code",
   "execution_count": 56,
   "id": "85d2711a-5632-475e-ba28-4ac44225758c",
   "metadata": {},
   "outputs": [
    {
     "name": "stdout",
     "output_type": "stream",
     "text": [
      " The Mean Squared Error is 42315387.48519891\n"
     ]
    }
   ],
   "source": [
    "# Calculating the Mean Squared Error\n",
    "MSE_3 = mean_squared_error(y_test, predictions_3)\n",
    "\n",
    "print(f' The Mean Squared Error is {MSE_3}')"
   ]
  },
  {
   "cell_type": "code",
   "execution_count": 57,
   "id": "cb6e2639-c4b2-47d8-9354-bf0e35cfe335",
   "metadata": {},
   "outputs": [
    {
     "name": "stdout",
     "output_type": "stream",
     "text": [
      " The Root Mean Squared Error is 6505.027861984829\n"
     ]
    }
   ],
   "source": [
    "# Calculating the Root Mean Squared Error\n",
    "RMSE_3 = np.sqrt(MSE_3)\n",
    "\n",
    "print(f' The Root Mean Squared Error is {RMSE_3}')"
   ]
  },
  {
   "cell_type": "code",
   "execution_count": 58,
   "id": "c1f8697c-a319-4a4c-a225-50fa5c762c47",
   "metadata": {},
   "outputs": [
    {
     "name": "stdout",
     "output_type": "stream",
     "text": [
      " The R2 score is 0.7274348905875526\n"
     ]
    }
   ],
   "source": [
    "# Calculating the R² score (coefficient of determination) to evaluate the model's performance\n",
    "R2_score_3 = r2_score(y_test, predictions_3)\n",
    "\n",
    "print(f' The R2 score is {R2_score_3}')"
   ]
  },
  {
   "cell_type": "markdown",
   "id": "12ba6bdd-0d85-44e3-b5c0-d1129c0178e2",
   "metadata": {},
   "source": [
    "#### Checking The Random Forest Regressor Model's Accuracy"
   ]
  },
  {
   "cell_type": "code",
   "execution_count": 59,
   "id": "33074773-5a38-459a-b936-0e7ce1d1aa1d",
   "metadata": {},
   "outputs": [],
   "source": [
    "# Making predictions on the training data using the trained Random Forest Regressor model to see how well the model fits the training data\n",
    "predictions_train_3 = lr_model.predict(X_train)"
   ]
  },
  {
   "cell_type": "code",
   "execution_count": 60,
   "id": "3e896601-9ef8-4acb-9383-7cd09e23fc46",
   "metadata": {},
   "outputs": [
    {
     "name": "stdout",
     "output_type": "stream",
     "text": [
      " The R2 score is 0.652964124762761\n"
     ]
    }
   ],
   "source": [
    "# Calculating the R² score (coefficient of determination) to evaluate the model's performance\n",
    "R2_score_train_3 = r2_score(y_train, predictions_train_3)\n",
    "\n",
    "print(f' The R2 score is {R2_score_train_3}')"
   ]
  },
  {
   "cell_type": "markdown",
   "id": "5df2f4ed-2873-4572-a0b5-de404b4bbfb4",
   "metadata": {},
   "source": [
    "#### Findings\n",
    "* The R² score of the Test data is **0.7255767196424169**\n",
    "* The R² score of the Train data is **0.652964124762761**\n",
    "\n",
    "This shows that the model performs slightly better on the test data than on the training data. Although this is not typical, it can still be a valid finding. The higher test R² score may indicate:\n",
    "* The test set contains simpler patterns that the model was able to capture.\n",
    "* The training set might be slightly noisier.\n",
    "* The model is generalizing effectively, which is a good sign."
   ]
  },
  {
   "cell_type": "markdown",
   "id": "d6d72626-224a-4de6-90f6-5e8caa7572cf",
   "metadata": {},
   "source": [
    "### Polynomial Regression"
   ]
  },
  {
   "cell_type": "code",
   "execution_count": 61,
   "id": "0e6d03d0-d384-471c-9fec-5f3c5ebd75ff",
   "metadata": {},
   "outputs": [],
   "source": [
    "# Importing PolynomialFeatures from scikit-learn's preprocessing module\n",
    "from sklearn.preprocessing import PolynomialFeatures"
   ]
  },
  {
   "cell_type": "code",
   "execution_count": 62,
   "id": "3bf34d25-bec6-40b2-ba83-c71c3e05ef5d",
   "metadata": {},
   "outputs": [],
   "source": [
    "# Creating an instance of the PolynomialFeatures transformer with degree 2\n",
    "Poly = PolynomialFeatures(degree=2)"
   ]
  },
  {
   "cell_type": "code",
   "execution_count": 63,
   "id": "46a95bb3-f343-495a-80ea-c804f9135da3",
   "metadata": {},
   "outputs": [],
   "source": [
    "# Applying the polynomial transformation to the original feature set X\n",
    "X_poly = Poly.fit_transform(X)"
   ]
  },
  {
   "cell_type": "code",
   "execution_count": 64,
   "id": "4ca98fb7-88d4-4fe4-9ed0-560ab1dfa72f",
   "metadata": {},
   "outputs": [],
   "source": [
    "# Splitting the polynomial-transformed dataset into training and testing sets\n",
    "X_train_poly, X_test_poly, y_train, y_test = train_test_split(X_poly, y, test_size=0.2, random_state=42)"
   ]
  },
  {
   "cell_type": "code",
   "execution_count": 65,
   "id": "19394224-5b35-4c89-bcdd-8a122e08cdbc",
   "metadata": {},
   "outputs": [],
   "source": [
    "# Training a Linear Regression model using the polynomial-transformed training data\n",
    "Poly_model = LinearRegression().fit(X_train_poly, y_train)"
   ]
  },
  {
   "cell_type": "code",
   "execution_count": 66,
   "id": "0d562cec-c3f8-4448-8a48-565f3d137f6a",
   "metadata": {},
   "outputs": [
    {
     "data": {
      "text/plain": [
       "array([ 9726.49780017,  8110.77086905, 25476.94361056,  9503.85404978,\n",
       "       33384.0505445 ,  7954.9943895 ,  6178.44608538,  8471.43121701,\n",
       "        4258.5100425 , 10217.76142064, 23071.22226409, 10062.06020471,\n",
       "        8711.32827487, 49256.05116461, 45530.6664481 , 44630.87502283,\n",
       "        8967.41953107, 40922.50224269,  8447.63143894, 25476.94361056,\n",
       "        7288.65174011,  9356.08068026,  8034.85470923,  9086.55598287,\n",
       "       10098.21033935,  9067.28099284,  8221.45216226, 10522.77599252,\n",
       "       10146.89509068,  7890.45273495,  8986.31430809,  8344.31460012,\n",
       "        8203.31088244,  7402.26249676,  8708.50759029,  9086.55598287,\n",
       "        8101.58066016,  8696.46371748, 21928.21728931, 38955.9274156 ,\n",
       "        8402.65145581,  9376.37716529,  8936.26239249,  7121.45554011,\n",
       "        9737.32778733,  8324.86433714, 10378.5244767 ,  8087.37462368,\n",
       "       41004.62466499,  9599.84405038,  8176.70673437,  8677.65254565,\n",
       "        9202.94777479,  7815.85854656,  8200.17690669, 11246.72262983,\n",
       "        7622.84761498, 39452.29228243,  8216.3407802 ,  9120.22671935,\n",
       "        8153.99768247,  8873.92287185,  9514.55476076,  8811.9448749 ,\n",
       "        8840.64181909,  8316.03242758, 25059.69889112,  8974.95809538,\n",
       "        7230.64130647,  7845.2792786 , 10531.74392464, 11269.74808629,\n",
       "        8169.03635779,  9631.08191755,  8995.21511688,  7860.91901567,\n",
       "       11980.55473598,  7174.10006266,  9676.61593018,  8457.01375733,\n",
       "        8169.03635779, 25489.05949558,  9104.81375821, 43029.63362062,\n",
       "       59043.57878773, 33666.53516161,  9874.94791249,  8431.22491148,\n",
       "       10075.79878458,  9490.41840185, 11494.86382197, 18985.39759297,\n",
       "       25797.30827268, 10419.67564958, 39718.96109467,  9333.39283491,\n",
       "       29669.0433029 ,  8153.20191619, 22362.54065141,  9148.26787759,\n",
       "        8899.77430388,  7847.3553599 ,  7809.3830292 ,  9514.55476076,\n",
       "        7037.62398599,  9120.09463789,  9464.8092646 , 15315.51524533,\n",
       "        6209.25335208, 19682.567955  ,  8216.3407802 ,  7305.11683404,\n",
       "       10307.26775471, 35094.10257763, 10090.07671636,  8941.87680413,\n",
       "        8426.22393002, 26733.94931568,  9478.22466908,  8673.29357975,\n",
       "       10393.19696495, 10409.5522286 , 11482.09567789,  8190.8854971 ,\n",
       "        8451.89674901, 10338.55694614,  9115.53164414,  9928.79311205,\n",
       "        8202.16552283,  7528.98297631,  7711.53688361, 10054.02234957,\n",
       "        9735.42807699,  9199.65441635,  8206.08123313,  8860.32695365,\n",
       "        9235.13600518, 30737.4714635 , 43257.27266998, 32059.48246076,\n",
       "        7492.07755871,  9170.6978467 ,  8199.73726337, 10412.37269272,\n",
       "        7046.74601758, 24943.2493038 ,  9469.37551823,  7875.93228523,\n",
       "       10956.72018139,  8764.59963275, 42935.72030153,  7768.08776048,\n",
       "        7669.15857812, 37660.85830133,  9326.06772801,  9213.47950399,\n",
       "        9005.39548766,  8677.65254565, 35055.37647907, 36387.53769048,\n",
       "       11210.32199127,  8264.17604514,  8323.43585486,  7326.009902  ,\n",
       "        9496.25438504,  9686.66244524, 41584.094281  , 32235.22386288,\n",
       "       34220.63777908,  8024.28083604,  6631.33663923,  8920.17910863,\n",
       "        8703.15066239,  8316.03242758,  7540.63517232, 23981.25129174,\n",
       "       27181.14314932,  7776.3245401 , 11181.5168919 ,  6412.24318774,\n",
       "       27213.57095497,  5218.67714289,  6038.11117049,  8960.69707723,\n",
       "        9433.19752605,  8471.45139341,  9893.55646497,  7652.78080677,\n",
       "        7667.41567801,  7666.89653427,  9459.40317355,  8543.23807028,\n",
       "        6868.71813673, 40948.68176411,  7991.80182366,  8194.33058344,\n",
       "        7902.89765877, 10703.31363287,  7868.76958235,  7216.93420901,\n",
       "        6074.52241945, 26252.6963571 ,  8616.87561429,  9424.76378272,\n",
       "       26333.03455018, 21982.60239507,  7374.74506547,  7966.29462823,\n",
       "        7825.41286783,  6448.67339995,  5981.21124524,  7436.5920502 ,\n",
       "        9718.18670318, 25787.0875651 ,  8308.42066172,  8278.40854613,\n",
       "        8489.29766285,  9297.47058762,  6721.33776366,  9110.88454301,\n",
       "        8542.83495058,  8334.22330145,  8336.10227131, 43480.01678901,\n",
       "        8372.99512897, 32955.58188556,  5690.80448748,  8194.20628118,\n",
       "        8774.68448596,  9598.28920058,  8151.49219218,  4293.53834313,\n",
       "        8065.85325523, 27338.79282204,  4430.24119749,  8151.49219218,\n",
       "       10102.53096276,  8232.65421001, 46455.57371426,  8185.48782469,\n",
       "        4791.26725398, 39860.97520779,  8525.08502129,  8759.34483911,\n",
       "        7040.62630239,  8256.90679371,  8737.03765344,  8856.14710948,\n",
       "        8115.37166303,  4013.42780042,  7942.55938997,  9538.86488668,\n",
       "        7263.67134954,  6512.28189933,  9430.8991479 ,  9011.56059456,\n",
       "        7847.3553599 ,  9597.04269739,  6621.82020599, 11681.31227557,\n",
       "       10217.76142064,  5636.47830908, 29102.7246483 , 37869.89487706,\n",
       "        7559.49712843,  9553.94012437, 52958.67040962,  8965.88548618])"
      ]
     },
     "execution_count": 66,
     "metadata": {},
     "output_type": "execute_result"
    }
   ],
   "source": [
    "# Using the trained polynomial regression model to make predictions on the polynomial-transformed test data\n",
    "predictions_4 = Poly_model.predict(X_test_poly)\n",
    "\n",
    "# Displaying the predicted insurance charges\n",
    "predictions_4"
   ]
  },
  {
   "cell_type": "code",
   "execution_count": 67,
   "id": "6724a2c5-21a3-46e9-a134-430dcc79e42b",
   "metadata": {},
   "outputs": [
    {
     "name": "stdout",
     "output_type": "stream",
     "text": [
      " The Mean Absolute Error is 4613.572848287747\n"
     ]
    }
   ],
   "source": [
    "# Calculating the Mean Absolute Error\n",
    "MAE_4 = mean_absolute_error(y_test, predictions_4)\n",
    "\n",
    "print(f' The Mean Absolute Error is {MAE_4}')"
   ]
  },
  {
   "cell_type": "code",
   "execution_count": 68,
   "id": "c0973d0e-2a87-4e90-ac6a-c6006a5a1053",
   "metadata": {},
   "outputs": [
    {
     "name": "stdout",
     "output_type": "stream",
     "text": [
      " The Mean Squared Error is 35002558.620726414\n"
     ]
    }
   ],
   "source": [
    "# Calculating the Mean Squared Error\n",
    "MSE_4 = mean_squared_error(y_test, predictions_4)\n",
    "\n",
    "print(f' The Mean Squared Error is {MSE_4}')"
   ]
  },
  {
   "cell_type": "code",
   "execution_count": 69,
   "id": "412dc57b-c834-4b7c-bed5-657c6f835139",
   "metadata": {},
   "outputs": [
    {
     "name": "stdout",
     "output_type": "stream",
     "text": [
      " The Root Mean Squared Error is 5916.296022067051\n"
     ]
    }
   ],
   "source": [
    "# Calculating the Root Mean Squared Error\n",
    "RMSE_4 = np.sqrt(MSE_4)\n",
    "\n",
    "print(f' The Root Mean Squared Error is {RMSE_4}')"
   ]
  },
  {
   "cell_type": "code",
   "execution_count": 70,
   "id": "a526cfeb-5a46-4b70-8835-232a77273b7d",
   "metadata": {},
   "outputs": [
    {
     "name": "stdout",
     "output_type": "stream",
     "text": [
      " The R2 score is 0.7745388430269965\n"
     ]
    }
   ],
   "source": [
    "# Calculating the R² score (coefficient of determination) to evaluate the model's performance\n",
    "R2_score_4 = r2_score(y_test, predictions_4)\n",
    "\n",
    "print(f' The R2 score is {R2_score_4}')"
   ]
  },
  {
   "cell_type": "markdown",
   "id": "cac21acd-b14a-4678-b8db-2b7d996c0dcf",
   "metadata": {},
   "source": [
    "#### Checking The Polynomial Regression Model's Accuracy"
   ]
  },
  {
   "cell_type": "code",
   "execution_count": 71,
   "id": "8af7e960-3d74-4296-8dc3-5888966c754e",
   "metadata": {},
   "outputs": [],
   "source": [
    "# Making predictions on the training data using the trained Polynomial Regression model to see how well the model fits the training data\n",
    "predictions_train_4 = lr_model.predict(X_train)"
   ]
  },
  {
   "cell_type": "code",
   "execution_count": 72,
   "id": "97b60b4d-2411-4f35-b466-2cb5eb4ad54a",
   "metadata": {},
   "outputs": [
    {
     "name": "stdout",
     "output_type": "stream",
     "text": [
      " The R2 score is 0.652964124762761\n"
     ]
    }
   ],
   "source": [
    "# Calculating the R² score (coefficient of determination) to evaluate the model's performance\n",
    "R2_score_train_4 = r2_score(y_train, predictions_train_4)\n",
    "\n",
    "print(f' The R2 score is {R2_score_train_4}')"
   ]
  },
  {
   "cell_type": "markdown",
   "id": "58aa9afb-3e0c-437b-be43-339bd59d19b5",
   "metadata": {},
   "source": [
    "#### Findings\n",
    "* The R² score of the Test data is **0.7745388430269965**\n",
    "* The R² score of the Train data is **0.652964124762761**\n",
    "\n",
    "This result shows that the polynomial regression model performed better on the test data than on the training data. This may indicate that the model is capturing important non-linear patterns in the dataset that generalize well.\n",
    "\n",
    "Although it's not common for the test score to exceed the train score, it’s not necessarily a bad sign. It could be due to:\n",
    "* Slight noise or complexity in the training data.\n",
    "* A relatively simple pattern in the test data.\n",
    "* The polynomial features provide a better fit for the test set."
   ]
  },
  {
   "cell_type": "markdown",
   "id": "297bddb5-bf7b-4608-8696-473b7d914e27",
   "metadata": {},
   "source": [
    "### Conclusion\n",
    "After evaluating four regression models to predict health insurance charges. I discovered that each model had its strengths and limitations based on training and testing performance.\n",
    "\n",
    "Below is a summary of the findings:\n",
    "* Linear Regression: A solid baseline model that performed reasonably well but couldn’t capture nonlinear patterns.\n",
    "* Decision Tree Regression: Simple to interpret but underperformed, suggesting it didn’t capture enough complexity in the data.\n",
    "* Random Forest Regression: Provided stronger, more stable predictions by reducing variance across multiple trees.\n",
    "* Polynomial Regression: Delivered the best performance by effectively modeling complex relationships in the data."
   ]
  }
 ],
 "metadata": {
  "kernelspec": {
   "display_name": "Python [conda env:base] *",
   "language": "python",
   "name": "conda-base-py"
  },
  "language_info": {
   "codemirror_mode": {
    "name": "ipython",
    "version": 3
   },
   "file_extension": ".py",
   "mimetype": "text/x-python",
   "name": "python",
   "nbconvert_exporter": "python",
   "pygments_lexer": "ipython3",
   "version": "3.12.7"
  }
 },
 "nbformat": 4,
 "nbformat_minor": 5
}
